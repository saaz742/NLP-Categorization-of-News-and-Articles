{
  "nbformat": 4,
  "nbformat_minor": 0,
  "metadata": {
    "colab": {
      "provenance": [],
      "gpuType": "T4",
      "collapsed_sections": [
        "BS6VfBqQBxl_",
        "rfMvZucRB0_J",
        "2mhXn2A4O6ud",
        "P6fT9HHmVkR-",
        "RVMmtl03hxzh",
        "rzTEzQ6HQyW4"
      ]
    },
    "kernelspec": {
      "name": "python3",
      "display_name": "Python 3"
    },
    "language_info": {
      "name": "python"
    },
    "accelerator": "GPU",
    "widgets": {
      "application/vnd.jupyter.widget-state+json": {
        "3398fb8c7df6443a977ca476a6ed7423": {
          "model_module": "@jupyter-widgets/controls",
          "model_name": "HBoxModel",
          "model_module_version": "1.5.0",
          "state": {
            "_dom_classes": [],
            "_model_module": "@jupyter-widgets/controls",
            "_model_module_version": "1.5.0",
            "_model_name": "HBoxModel",
            "_view_count": null,
            "_view_module": "@jupyter-widgets/controls",
            "_view_module_version": "1.5.0",
            "_view_name": "HBoxView",
            "box_style": "",
            "children": [
              "IPY_MODEL_225dcfae931542fbb89db6013872a2f4",
              "IPY_MODEL_bd988f71285a4998ad519782d8006947",
              "IPY_MODEL_e4e8a2c6abdf47c895538c5f45581b89"
            ],
            "layout": "IPY_MODEL_0aaabbc871cc4bd7a450a994e3740648"
          }
        },
        "225dcfae931542fbb89db6013872a2f4": {
          "model_module": "@jupyter-widgets/controls",
          "model_name": "HTMLModel",
          "model_module_version": "1.5.0",
          "state": {
            "_dom_classes": [],
            "_model_module": "@jupyter-widgets/controls",
            "_model_module_version": "1.5.0",
            "_model_name": "HTMLModel",
            "_view_count": null,
            "_view_module": "@jupyter-widgets/controls",
            "_view_module_version": "1.5.0",
            "_view_name": "HTMLView",
            "description": "",
            "description_tooltip": null,
            "layout": "IPY_MODEL_ad8884090a2a487ea3306a9d8b2d4d87",
            "placeholder": "​",
            "style": "IPY_MODEL_1253365e427e454482110c61f0f0f38d",
            "value": "Downloading (…)lve/main/config.json: 100%"
          }
        },
        "bd988f71285a4998ad519782d8006947": {
          "model_module": "@jupyter-widgets/controls",
          "model_name": "FloatProgressModel",
          "model_module_version": "1.5.0",
          "state": {
            "_dom_classes": [],
            "_model_module": "@jupyter-widgets/controls",
            "_model_module_version": "1.5.0",
            "_model_name": "FloatProgressModel",
            "_view_count": null,
            "_view_module": "@jupyter-widgets/controls",
            "_view_module_version": "1.5.0",
            "_view_name": "ProgressView",
            "bar_style": "success",
            "description": "",
            "description_tooltip": null,
            "layout": "IPY_MODEL_449ef495d7ac4a37a1cb9022e9d7b126",
            "max": 1357,
            "min": 0,
            "orientation": "horizontal",
            "style": "IPY_MODEL_16fce964587d487dadee783297875cc2",
            "value": 1357
          }
        },
        "e4e8a2c6abdf47c895538c5f45581b89": {
          "model_module": "@jupyter-widgets/controls",
          "model_name": "HTMLModel",
          "model_module_version": "1.5.0",
          "state": {
            "_dom_classes": [],
            "_model_module": "@jupyter-widgets/controls",
            "_model_module_version": "1.5.0",
            "_model_name": "HTMLModel",
            "_view_count": null,
            "_view_module": "@jupyter-widgets/controls",
            "_view_module_version": "1.5.0",
            "_view_name": "HTMLView",
            "description": "",
            "description_tooltip": null,
            "layout": "IPY_MODEL_d793cc95ee1f4165a6c0baa67cec2b10",
            "placeholder": "​",
            "style": "IPY_MODEL_904acd5b5c0b4ab68aa4956a652ac1d4",
            "value": " 1.36k/1.36k [00:00&lt;00:00, 66.2kB/s]"
          }
        },
        "0aaabbc871cc4bd7a450a994e3740648": {
          "model_module": "@jupyter-widgets/base",
          "model_name": "LayoutModel",
          "model_module_version": "1.2.0",
          "state": {
            "_model_module": "@jupyter-widgets/base",
            "_model_module_version": "1.2.0",
            "_model_name": "LayoutModel",
            "_view_count": null,
            "_view_module": "@jupyter-widgets/base",
            "_view_module_version": "1.2.0",
            "_view_name": "LayoutView",
            "align_content": null,
            "align_items": null,
            "align_self": null,
            "border": null,
            "bottom": null,
            "display": null,
            "flex": null,
            "flex_flow": null,
            "grid_area": null,
            "grid_auto_columns": null,
            "grid_auto_flow": null,
            "grid_auto_rows": null,
            "grid_column": null,
            "grid_gap": null,
            "grid_row": null,
            "grid_template_areas": null,
            "grid_template_columns": null,
            "grid_template_rows": null,
            "height": null,
            "justify_content": null,
            "justify_items": null,
            "left": null,
            "margin": null,
            "max_height": null,
            "max_width": null,
            "min_height": null,
            "min_width": null,
            "object_fit": null,
            "object_position": null,
            "order": null,
            "overflow": null,
            "overflow_x": null,
            "overflow_y": null,
            "padding": null,
            "right": null,
            "top": null,
            "visibility": null,
            "width": null
          }
        },
        "ad8884090a2a487ea3306a9d8b2d4d87": {
          "model_module": "@jupyter-widgets/base",
          "model_name": "LayoutModel",
          "model_module_version": "1.2.0",
          "state": {
            "_model_module": "@jupyter-widgets/base",
            "_model_module_version": "1.2.0",
            "_model_name": "LayoutModel",
            "_view_count": null,
            "_view_module": "@jupyter-widgets/base",
            "_view_module_version": "1.2.0",
            "_view_name": "LayoutView",
            "align_content": null,
            "align_items": null,
            "align_self": null,
            "border": null,
            "bottom": null,
            "display": null,
            "flex": null,
            "flex_flow": null,
            "grid_area": null,
            "grid_auto_columns": null,
            "grid_auto_flow": null,
            "grid_auto_rows": null,
            "grid_column": null,
            "grid_gap": null,
            "grid_row": null,
            "grid_template_areas": null,
            "grid_template_columns": null,
            "grid_template_rows": null,
            "height": null,
            "justify_content": null,
            "justify_items": null,
            "left": null,
            "margin": null,
            "max_height": null,
            "max_width": null,
            "min_height": null,
            "min_width": null,
            "object_fit": null,
            "object_position": null,
            "order": null,
            "overflow": null,
            "overflow_x": null,
            "overflow_y": null,
            "padding": null,
            "right": null,
            "top": null,
            "visibility": null,
            "width": null
          }
        },
        "1253365e427e454482110c61f0f0f38d": {
          "model_module": "@jupyter-widgets/controls",
          "model_name": "DescriptionStyleModel",
          "model_module_version": "1.5.0",
          "state": {
            "_model_module": "@jupyter-widgets/controls",
            "_model_module_version": "1.5.0",
            "_model_name": "DescriptionStyleModel",
            "_view_count": null,
            "_view_module": "@jupyter-widgets/base",
            "_view_module_version": "1.2.0",
            "_view_name": "StyleView",
            "description_width": ""
          }
        },
        "449ef495d7ac4a37a1cb9022e9d7b126": {
          "model_module": "@jupyter-widgets/base",
          "model_name": "LayoutModel",
          "model_module_version": "1.2.0",
          "state": {
            "_model_module": "@jupyter-widgets/base",
            "_model_module_version": "1.2.0",
            "_model_name": "LayoutModel",
            "_view_count": null,
            "_view_module": "@jupyter-widgets/base",
            "_view_module_version": "1.2.0",
            "_view_name": "LayoutView",
            "align_content": null,
            "align_items": null,
            "align_self": null,
            "border": null,
            "bottom": null,
            "display": null,
            "flex": null,
            "flex_flow": null,
            "grid_area": null,
            "grid_auto_columns": null,
            "grid_auto_flow": null,
            "grid_auto_rows": null,
            "grid_column": null,
            "grid_gap": null,
            "grid_row": null,
            "grid_template_areas": null,
            "grid_template_columns": null,
            "grid_template_rows": null,
            "height": null,
            "justify_content": null,
            "justify_items": null,
            "left": null,
            "margin": null,
            "max_height": null,
            "max_width": null,
            "min_height": null,
            "min_width": null,
            "object_fit": null,
            "object_position": null,
            "order": null,
            "overflow": null,
            "overflow_x": null,
            "overflow_y": null,
            "padding": null,
            "right": null,
            "top": null,
            "visibility": null,
            "width": null
          }
        },
        "16fce964587d487dadee783297875cc2": {
          "model_module": "@jupyter-widgets/controls",
          "model_name": "ProgressStyleModel",
          "model_module_version": "1.5.0",
          "state": {
            "_model_module": "@jupyter-widgets/controls",
            "_model_module_version": "1.5.0",
            "_model_name": "ProgressStyleModel",
            "_view_count": null,
            "_view_module": "@jupyter-widgets/base",
            "_view_module_version": "1.2.0",
            "_view_name": "StyleView",
            "bar_color": null,
            "description_width": ""
          }
        },
        "d793cc95ee1f4165a6c0baa67cec2b10": {
          "model_module": "@jupyter-widgets/base",
          "model_name": "LayoutModel",
          "model_module_version": "1.2.0",
          "state": {
            "_model_module": "@jupyter-widgets/base",
            "_model_module_version": "1.2.0",
            "_model_name": "LayoutModel",
            "_view_count": null,
            "_view_module": "@jupyter-widgets/base",
            "_view_module_version": "1.2.0",
            "_view_name": "LayoutView",
            "align_content": null,
            "align_items": null,
            "align_self": null,
            "border": null,
            "bottom": null,
            "display": null,
            "flex": null,
            "flex_flow": null,
            "grid_area": null,
            "grid_auto_columns": null,
            "grid_auto_flow": null,
            "grid_auto_rows": null,
            "grid_column": null,
            "grid_gap": null,
            "grid_row": null,
            "grid_template_areas": null,
            "grid_template_columns": null,
            "grid_template_rows": null,
            "height": null,
            "justify_content": null,
            "justify_items": null,
            "left": null,
            "margin": null,
            "max_height": null,
            "max_width": null,
            "min_height": null,
            "min_width": null,
            "object_fit": null,
            "object_position": null,
            "order": null,
            "overflow": null,
            "overflow_x": null,
            "overflow_y": null,
            "padding": null,
            "right": null,
            "top": null,
            "visibility": null,
            "width": null
          }
        },
        "904acd5b5c0b4ab68aa4956a652ac1d4": {
          "model_module": "@jupyter-widgets/controls",
          "model_name": "DescriptionStyleModel",
          "model_module_version": "1.5.0",
          "state": {
            "_model_module": "@jupyter-widgets/controls",
            "_model_module_version": "1.5.0",
            "_model_name": "DescriptionStyleModel",
            "_view_count": null,
            "_view_module": "@jupyter-widgets/base",
            "_view_module_version": "1.2.0",
            "_view_name": "StyleView",
            "description_width": ""
          }
        },
        "a75c792b27444a07822a57c07a024668": {
          "model_module": "@jupyter-widgets/controls",
          "model_name": "HBoxModel",
          "model_module_version": "1.5.0",
          "state": {
            "_dom_classes": [],
            "_model_module": "@jupyter-widgets/controls",
            "_model_module_version": "1.5.0",
            "_model_name": "HBoxModel",
            "_view_count": null,
            "_view_module": "@jupyter-widgets/controls",
            "_view_module_version": "1.5.0",
            "_view_name": "HBoxView",
            "box_style": "",
            "children": [
              "IPY_MODEL_dd4d59e03db84c10b26db20a758626ef",
              "IPY_MODEL_ab812894f7b44a68aa8b7b3b6999bd8f",
              "IPY_MODEL_8317964ef21e4e16bfe71a4a4b8fbabe"
            ],
            "layout": "IPY_MODEL_0f635f33ef9047aa8651f8b59f90f167"
          }
        },
        "dd4d59e03db84c10b26db20a758626ef": {
          "model_module": "@jupyter-widgets/controls",
          "model_name": "HTMLModel",
          "model_module_version": "1.5.0",
          "state": {
            "_dom_classes": [],
            "_model_module": "@jupyter-widgets/controls",
            "_model_module_version": "1.5.0",
            "_model_name": "HTMLModel",
            "_view_count": null,
            "_view_module": "@jupyter-widgets/controls",
            "_view_module_version": "1.5.0",
            "_view_name": "HTMLView",
            "description": "",
            "description_tooltip": null,
            "layout": "IPY_MODEL_037c34dcce28485bb227d1b81b1fea87",
            "placeholder": "​",
            "style": "IPY_MODEL_8b4a3ffeeea04c2589deaebca64c18d0",
            "value": "Downloading (…)okenizer_config.json: 100%"
          }
        },
        "ab812894f7b44a68aa8b7b3b6999bd8f": {
          "model_module": "@jupyter-widgets/controls",
          "model_name": "FloatProgressModel",
          "model_module_version": "1.5.0",
          "state": {
            "_dom_classes": [],
            "_model_module": "@jupyter-widgets/controls",
            "_model_module_version": "1.5.0",
            "_model_name": "FloatProgressModel",
            "_view_count": null,
            "_view_module": "@jupyter-widgets/controls",
            "_view_module_version": "1.5.0",
            "_view_name": "ProgressView",
            "bar_style": "success",
            "description": "",
            "description_tooltip": null,
            "layout": "IPY_MODEL_9a90584672dd4c049b1c227170045ede",
            "max": 2,
            "min": 0,
            "orientation": "horizontal",
            "style": "IPY_MODEL_1afa116c9dc8413091c89c22aa106038",
            "value": 2
          }
        },
        "8317964ef21e4e16bfe71a4a4b8fbabe": {
          "model_module": "@jupyter-widgets/controls",
          "model_name": "HTMLModel",
          "model_module_version": "1.5.0",
          "state": {
            "_dom_classes": [],
            "_model_module": "@jupyter-widgets/controls",
            "_model_module_version": "1.5.0",
            "_model_name": "HTMLModel",
            "_view_count": null,
            "_view_module": "@jupyter-widgets/controls",
            "_view_module_version": "1.5.0",
            "_view_name": "HTMLView",
            "description": "",
            "description_tooltip": null,
            "layout": "IPY_MODEL_561c3632e7404cad8578a0a44367aa53",
            "placeholder": "​",
            "style": "IPY_MODEL_17accb8380aa4fa2a48f84934d33fac9",
            "value": " 2.00/2.00 [00:00&lt;00:00, 132B/s]"
          }
        },
        "0f635f33ef9047aa8651f8b59f90f167": {
          "model_module": "@jupyter-widgets/base",
          "model_name": "LayoutModel",
          "model_module_version": "1.2.0",
          "state": {
            "_model_module": "@jupyter-widgets/base",
            "_model_module_version": "1.2.0",
            "_model_name": "LayoutModel",
            "_view_count": null,
            "_view_module": "@jupyter-widgets/base",
            "_view_module_version": "1.2.0",
            "_view_name": "LayoutView",
            "align_content": null,
            "align_items": null,
            "align_self": null,
            "border": null,
            "bottom": null,
            "display": null,
            "flex": null,
            "flex_flow": null,
            "grid_area": null,
            "grid_auto_columns": null,
            "grid_auto_flow": null,
            "grid_auto_rows": null,
            "grid_column": null,
            "grid_gap": null,
            "grid_row": null,
            "grid_template_areas": null,
            "grid_template_columns": null,
            "grid_template_rows": null,
            "height": null,
            "justify_content": null,
            "justify_items": null,
            "left": null,
            "margin": null,
            "max_height": null,
            "max_width": null,
            "min_height": null,
            "min_width": null,
            "object_fit": null,
            "object_position": null,
            "order": null,
            "overflow": null,
            "overflow_x": null,
            "overflow_y": null,
            "padding": null,
            "right": null,
            "top": null,
            "visibility": null,
            "width": null
          }
        },
        "037c34dcce28485bb227d1b81b1fea87": {
          "model_module": "@jupyter-widgets/base",
          "model_name": "LayoutModel",
          "model_module_version": "1.2.0",
          "state": {
            "_model_module": "@jupyter-widgets/base",
            "_model_module_version": "1.2.0",
            "_model_name": "LayoutModel",
            "_view_count": null,
            "_view_module": "@jupyter-widgets/base",
            "_view_module_version": "1.2.0",
            "_view_name": "LayoutView",
            "align_content": null,
            "align_items": null,
            "align_self": null,
            "border": null,
            "bottom": null,
            "display": null,
            "flex": null,
            "flex_flow": null,
            "grid_area": null,
            "grid_auto_columns": null,
            "grid_auto_flow": null,
            "grid_auto_rows": null,
            "grid_column": null,
            "grid_gap": null,
            "grid_row": null,
            "grid_template_areas": null,
            "grid_template_columns": null,
            "grid_template_rows": null,
            "height": null,
            "justify_content": null,
            "justify_items": null,
            "left": null,
            "margin": null,
            "max_height": null,
            "max_width": null,
            "min_height": null,
            "min_width": null,
            "object_fit": null,
            "object_position": null,
            "order": null,
            "overflow": null,
            "overflow_x": null,
            "overflow_y": null,
            "padding": null,
            "right": null,
            "top": null,
            "visibility": null,
            "width": null
          }
        },
        "8b4a3ffeeea04c2589deaebca64c18d0": {
          "model_module": "@jupyter-widgets/controls",
          "model_name": "DescriptionStyleModel",
          "model_module_version": "1.5.0",
          "state": {
            "_model_module": "@jupyter-widgets/controls",
            "_model_module_version": "1.5.0",
            "_model_name": "DescriptionStyleModel",
            "_view_count": null,
            "_view_module": "@jupyter-widgets/base",
            "_view_module_version": "1.2.0",
            "_view_name": "StyleView",
            "description_width": ""
          }
        },
        "9a90584672dd4c049b1c227170045ede": {
          "model_module": "@jupyter-widgets/base",
          "model_name": "LayoutModel",
          "model_module_version": "1.2.0",
          "state": {
            "_model_module": "@jupyter-widgets/base",
            "_model_module_version": "1.2.0",
            "_model_name": "LayoutModel",
            "_view_count": null,
            "_view_module": "@jupyter-widgets/base",
            "_view_module_version": "1.2.0",
            "_view_name": "LayoutView",
            "align_content": null,
            "align_items": null,
            "align_self": null,
            "border": null,
            "bottom": null,
            "display": null,
            "flex": null,
            "flex_flow": null,
            "grid_area": null,
            "grid_auto_columns": null,
            "grid_auto_flow": null,
            "grid_auto_rows": null,
            "grid_column": null,
            "grid_gap": null,
            "grid_row": null,
            "grid_template_areas": null,
            "grid_template_columns": null,
            "grid_template_rows": null,
            "height": null,
            "justify_content": null,
            "justify_items": null,
            "left": null,
            "margin": null,
            "max_height": null,
            "max_width": null,
            "min_height": null,
            "min_width": null,
            "object_fit": null,
            "object_position": null,
            "order": null,
            "overflow": null,
            "overflow_x": null,
            "overflow_y": null,
            "padding": null,
            "right": null,
            "top": null,
            "visibility": null,
            "width": null
          }
        },
        "1afa116c9dc8413091c89c22aa106038": {
          "model_module": "@jupyter-widgets/controls",
          "model_name": "ProgressStyleModel",
          "model_module_version": "1.5.0",
          "state": {
            "_model_module": "@jupyter-widgets/controls",
            "_model_module_version": "1.5.0",
            "_model_name": "ProgressStyleModel",
            "_view_count": null,
            "_view_module": "@jupyter-widgets/base",
            "_view_module_version": "1.2.0",
            "_view_name": "StyleView",
            "bar_color": null,
            "description_width": ""
          }
        },
        "561c3632e7404cad8578a0a44367aa53": {
          "model_module": "@jupyter-widgets/base",
          "model_name": "LayoutModel",
          "model_module_version": "1.2.0",
          "state": {
            "_model_module": "@jupyter-widgets/base",
            "_model_module_version": "1.2.0",
            "_model_name": "LayoutModel",
            "_view_count": null,
            "_view_module": "@jupyter-widgets/base",
            "_view_module_version": "1.2.0",
            "_view_name": "LayoutView",
            "align_content": null,
            "align_items": null,
            "align_self": null,
            "border": null,
            "bottom": null,
            "display": null,
            "flex": null,
            "flex_flow": null,
            "grid_area": null,
            "grid_auto_columns": null,
            "grid_auto_flow": null,
            "grid_auto_rows": null,
            "grid_column": null,
            "grid_gap": null,
            "grid_row": null,
            "grid_template_areas": null,
            "grid_template_columns": null,
            "grid_template_rows": null,
            "height": null,
            "justify_content": null,
            "justify_items": null,
            "left": null,
            "margin": null,
            "max_height": null,
            "max_width": null,
            "min_height": null,
            "min_width": null,
            "object_fit": null,
            "object_position": null,
            "order": null,
            "overflow": null,
            "overflow_x": null,
            "overflow_y": null,
            "padding": null,
            "right": null,
            "top": null,
            "visibility": null,
            "width": null
          }
        },
        "17accb8380aa4fa2a48f84934d33fac9": {
          "model_module": "@jupyter-widgets/controls",
          "model_name": "DescriptionStyleModel",
          "model_module_version": "1.5.0",
          "state": {
            "_model_module": "@jupyter-widgets/controls",
            "_model_module_version": "1.5.0",
            "_model_name": "DescriptionStyleModel",
            "_view_count": null,
            "_view_module": "@jupyter-widgets/base",
            "_view_module_version": "1.2.0",
            "_view_name": "StyleView",
            "description_width": ""
          }
        },
        "c74ebf34354b4d0690e9a12bf74777ee": {
          "model_module": "@jupyter-widgets/controls",
          "model_name": "HBoxModel",
          "model_module_version": "1.5.0",
          "state": {
            "_dom_classes": [],
            "_model_module": "@jupyter-widgets/controls",
            "_model_module_version": "1.5.0",
            "_model_name": "HBoxModel",
            "_view_count": null,
            "_view_module": "@jupyter-widgets/controls",
            "_view_module_version": "1.5.0",
            "_view_name": "HBoxView",
            "box_style": "",
            "children": [
              "IPY_MODEL_c2ceaf4d54c24a2aa6130094eb307b1c",
              "IPY_MODEL_d189428ce4104180ad8b1e35c322b916",
              "IPY_MODEL_a22b947b5e8c47b0ad40008d8ae15ba7"
            ],
            "layout": "IPY_MODEL_c843a7990ade46ea80761718bc3fdd49"
          }
        },
        "c2ceaf4d54c24a2aa6130094eb307b1c": {
          "model_module": "@jupyter-widgets/controls",
          "model_name": "HTMLModel",
          "model_module_version": "1.5.0",
          "state": {
            "_dom_classes": [],
            "_model_module": "@jupyter-widgets/controls",
            "_model_module_version": "1.5.0",
            "_model_name": "HTMLModel",
            "_view_count": null,
            "_view_module": "@jupyter-widgets/controls",
            "_view_module_version": "1.5.0",
            "_view_name": "HTMLView",
            "description": "",
            "description_tooltip": null,
            "layout": "IPY_MODEL_18f85fc2c3b34cc3afd44cf6161e40f8",
            "placeholder": "​",
            "style": "IPY_MODEL_55d605126e7c4d5ebdc1210062e2336a",
            "value": "Downloading (…)solve/main/vocab.txt: 100%"
          }
        },
        "d189428ce4104180ad8b1e35c322b916": {
          "model_module": "@jupyter-widgets/controls",
          "model_name": "FloatProgressModel",
          "model_module_version": "1.5.0",
          "state": {
            "_dom_classes": [],
            "_model_module": "@jupyter-widgets/controls",
            "_model_module_version": "1.5.0",
            "_model_name": "FloatProgressModel",
            "_view_count": null,
            "_view_module": "@jupyter-widgets/controls",
            "_view_module_version": "1.5.0",
            "_view_name": "ProgressView",
            "bar_style": "success",
            "description": "",
            "description_tooltip": null,
            "layout": "IPY_MODEL_a51cb730b783494294007e28c5d01f9f",
            "max": 1215509,
            "min": 0,
            "orientation": "horizontal",
            "style": "IPY_MODEL_337b84f552814da39f888acf1c94d449",
            "value": 1215509
          }
        },
        "a22b947b5e8c47b0ad40008d8ae15ba7": {
          "model_module": "@jupyter-widgets/controls",
          "model_name": "HTMLModel",
          "model_module_version": "1.5.0",
          "state": {
            "_dom_classes": [],
            "_model_module": "@jupyter-widgets/controls",
            "_model_module_version": "1.5.0",
            "_model_name": "HTMLModel",
            "_view_count": null,
            "_view_module": "@jupyter-widgets/controls",
            "_view_module_version": "1.5.0",
            "_view_name": "HTMLView",
            "description": "",
            "description_tooltip": null,
            "layout": "IPY_MODEL_844ed0a94455429590170b6806442db2",
            "placeholder": "​",
            "style": "IPY_MODEL_63d2410c574447abb238a5f2774a460e",
            "value": " 1.22M/1.22M [00:00&lt;00:00, 17.2MB/s]"
          }
        },
        "c843a7990ade46ea80761718bc3fdd49": {
          "model_module": "@jupyter-widgets/base",
          "model_name": "LayoutModel",
          "model_module_version": "1.2.0",
          "state": {
            "_model_module": "@jupyter-widgets/base",
            "_model_module_version": "1.2.0",
            "_model_name": "LayoutModel",
            "_view_count": null,
            "_view_module": "@jupyter-widgets/base",
            "_view_module_version": "1.2.0",
            "_view_name": "LayoutView",
            "align_content": null,
            "align_items": null,
            "align_self": null,
            "border": null,
            "bottom": null,
            "display": null,
            "flex": null,
            "flex_flow": null,
            "grid_area": null,
            "grid_auto_columns": null,
            "grid_auto_flow": null,
            "grid_auto_rows": null,
            "grid_column": null,
            "grid_gap": null,
            "grid_row": null,
            "grid_template_areas": null,
            "grid_template_columns": null,
            "grid_template_rows": null,
            "height": null,
            "justify_content": null,
            "justify_items": null,
            "left": null,
            "margin": null,
            "max_height": null,
            "max_width": null,
            "min_height": null,
            "min_width": null,
            "object_fit": null,
            "object_position": null,
            "order": null,
            "overflow": null,
            "overflow_x": null,
            "overflow_y": null,
            "padding": null,
            "right": null,
            "top": null,
            "visibility": null,
            "width": null
          }
        },
        "18f85fc2c3b34cc3afd44cf6161e40f8": {
          "model_module": "@jupyter-widgets/base",
          "model_name": "LayoutModel",
          "model_module_version": "1.2.0",
          "state": {
            "_model_module": "@jupyter-widgets/base",
            "_model_module_version": "1.2.0",
            "_model_name": "LayoutModel",
            "_view_count": null,
            "_view_module": "@jupyter-widgets/base",
            "_view_module_version": "1.2.0",
            "_view_name": "LayoutView",
            "align_content": null,
            "align_items": null,
            "align_self": null,
            "border": null,
            "bottom": null,
            "display": null,
            "flex": null,
            "flex_flow": null,
            "grid_area": null,
            "grid_auto_columns": null,
            "grid_auto_flow": null,
            "grid_auto_rows": null,
            "grid_column": null,
            "grid_gap": null,
            "grid_row": null,
            "grid_template_areas": null,
            "grid_template_columns": null,
            "grid_template_rows": null,
            "height": null,
            "justify_content": null,
            "justify_items": null,
            "left": null,
            "margin": null,
            "max_height": null,
            "max_width": null,
            "min_height": null,
            "min_width": null,
            "object_fit": null,
            "object_position": null,
            "order": null,
            "overflow": null,
            "overflow_x": null,
            "overflow_y": null,
            "padding": null,
            "right": null,
            "top": null,
            "visibility": null,
            "width": null
          }
        },
        "55d605126e7c4d5ebdc1210062e2336a": {
          "model_module": "@jupyter-widgets/controls",
          "model_name": "DescriptionStyleModel",
          "model_module_version": "1.5.0",
          "state": {
            "_model_module": "@jupyter-widgets/controls",
            "_model_module_version": "1.5.0",
            "_model_name": "DescriptionStyleModel",
            "_view_count": null,
            "_view_module": "@jupyter-widgets/base",
            "_view_module_version": "1.2.0",
            "_view_name": "StyleView",
            "description_width": ""
          }
        },
        "a51cb730b783494294007e28c5d01f9f": {
          "model_module": "@jupyter-widgets/base",
          "model_name": "LayoutModel",
          "model_module_version": "1.2.0",
          "state": {
            "_model_module": "@jupyter-widgets/base",
            "_model_module_version": "1.2.0",
            "_model_name": "LayoutModel",
            "_view_count": null,
            "_view_module": "@jupyter-widgets/base",
            "_view_module_version": "1.2.0",
            "_view_name": "LayoutView",
            "align_content": null,
            "align_items": null,
            "align_self": null,
            "border": null,
            "bottom": null,
            "display": null,
            "flex": null,
            "flex_flow": null,
            "grid_area": null,
            "grid_auto_columns": null,
            "grid_auto_flow": null,
            "grid_auto_rows": null,
            "grid_column": null,
            "grid_gap": null,
            "grid_row": null,
            "grid_template_areas": null,
            "grid_template_columns": null,
            "grid_template_rows": null,
            "height": null,
            "justify_content": null,
            "justify_items": null,
            "left": null,
            "margin": null,
            "max_height": null,
            "max_width": null,
            "min_height": null,
            "min_width": null,
            "object_fit": null,
            "object_position": null,
            "order": null,
            "overflow": null,
            "overflow_x": null,
            "overflow_y": null,
            "padding": null,
            "right": null,
            "top": null,
            "visibility": null,
            "width": null
          }
        },
        "337b84f552814da39f888acf1c94d449": {
          "model_module": "@jupyter-widgets/controls",
          "model_name": "ProgressStyleModel",
          "model_module_version": "1.5.0",
          "state": {
            "_model_module": "@jupyter-widgets/controls",
            "_model_module_version": "1.5.0",
            "_model_name": "ProgressStyleModel",
            "_view_count": null,
            "_view_module": "@jupyter-widgets/base",
            "_view_module_version": "1.2.0",
            "_view_name": "StyleView",
            "bar_color": null,
            "description_width": ""
          }
        },
        "844ed0a94455429590170b6806442db2": {
          "model_module": "@jupyter-widgets/base",
          "model_name": "LayoutModel",
          "model_module_version": "1.2.0",
          "state": {
            "_model_module": "@jupyter-widgets/base",
            "_model_module_version": "1.2.0",
            "_model_name": "LayoutModel",
            "_view_count": null,
            "_view_module": "@jupyter-widgets/base",
            "_view_module_version": "1.2.0",
            "_view_name": "LayoutView",
            "align_content": null,
            "align_items": null,
            "align_self": null,
            "border": null,
            "bottom": null,
            "display": null,
            "flex": null,
            "flex_flow": null,
            "grid_area": null,
            "grid_auto_columns": null,
            "grid_auto_flow": null,
            "grid_auto_rows": null,
            "grid_column": null,
            "grid_gap": null,
            "grid_row": null,
            "grid_template_areas": null,
            "grid_template_columns": null,
            "grid_template_rows": null,
            "height": null,
            "justify_content": null,
            "justify_items": null,
            "left": null,
            "margin": null,
            "max_height": null,
            "max_width": null,
            "min_height": null,
            "min_width": null,
            "object_fit": null,
            "object_position": null,
            "order": null,
            "overflow": null,
            "overflow_x": null,
            "overflow_y": null,
            "padding": null,
            "right": null,
            "top": null,
            "visibility": null,
            "width": null
          }
        },
        "63d2410c574447abb238a5f2774a460e": {
          "model_module": "@jupyter-widgets/controls",
          "model_name": "DescriptionStyleModel",
          "model_module_version": "1.5.0",
          "state": {
            "_model_module": "@jupyter-widgets/controls",
            "_model_module_version": "1.5.0",
            "_model_name": "DescriptionStyleModel",
            "_view_count": null,
            "_view_module": "@jupyter-widgets/base",
            "_view_module_version": "1.2.0",
            "_view_name": "StyleView",
            "description_width": ""
          }
        },
        "246219db9ca442f48477bfefde652fe5": {
          "model_module": "@jupyter-widgets/controls",
          "model_name": "HBoxModel",
          "model_module_version": "1.5.0",
          "state": {
            "_dom_classes": [],
            "_model_module": "@jupyter-widgets/controls",
            "_model_module_version": "1.5.0",
            "_model_name": "HBoxModel",
            "_view_count": null,
            "_view_module": "@jupyter-widgets/controls",
            "_view_module_version": "1.5.0",
            "_view_name": "HBoxView",
            "box_style": "",
            "children": [
              "IPY_MODEL_671a3eab103c45a29583420eb6a7e478",
              "IPY_MODEL_b72e2ff062804f9bb880d056ec34568b",
              "IPY_MODEL_aaa7703893ac4065a35cef96a882ef96"
            ],
            "layout": "IPY_MODEL_cd3e51e2221248b69d5be2d3bf2c9f70"
          }
        },
        "671a3eab103c45a29583420eb6a7e478": {
          "model_module": "@jupyter-widgets/controls",
          "model_name": "HTMLModel",
          "model_module_version": "1.5.0",
          "state": {
            "_dom_classes": [],
            "_model_module": "@jupyter-widgets/controls",
            "_model_module_version": "1.5.0",
            "_model_name": "HTMLModel",
            "_view_count": null,
            "_view_module": "@jupyter-widgets/controls",
            "_view_module_version": "1.5.0",
            "_view_name": "HTMLView",
            "description": "",
            "description_tooltip": null,
            "layout": "IPY_MODEL_0f6b97d8b2f5457aa7672300f88f34b6",
            "placeholder": "​",
            "style": "IPY_MODEL_017ed2bba53c4336862d8f08dd90353e",
            "value": "Downloading (…)cial_tokens_map.json: 100%"
          }
        },
        "b72e2ff062804f9bb880d056ec34568b": {
          "model_module": "@jupyter-widgets/controls",
          "model_name": "FloatProgressModel",
          "model_module_version": "1.5.0",
          "state": {
            "_dom_classes": [],
            "_model_module": "@jupyter-widgets/controls",
            "_model_module_version": "1.5.0",
            "_model_name": "FloatProgressModel",
            "_view_count": null,
            "_view_module": "@jupyter-widgets/controls",
            "_view_module_version": "1.5.0",
            "_view_name": "ProgressView",
            "bar_style": "success",
            "description": "",
            "description_tooltip": null,
            "layout": "IPY_MODEL_4ea96c18f0164263921cb4bcba8c4f97",
            "max": 112,
            "min": 0,
            "orientation": "horizontal",
            "style": "IPY_MODEL_8cc5c0606c9548e5b165f2d74c5c5474",
            "value": 112
          }
        },
        "aaa7703893ac4065a35cef96a882ef96": {
          "model_module": "@jupyter-widgets/controls",
          "model_name": "HTMLModel",
          "model_module_version": "1.5.0",
          "state": {
            "_dom_classes": [],
            "_model_module": "@jupyter-widgets/controls",
            "_model_module_version": "1.5.0",
            "_model_name": "HTMLModel",
            "_view_count": null,
            "_view_module": "@jupyter-widgets/controls",
            "_view_module_version": "1.5.0",
            "_view_name": "HTMLView",
            "description": "",
            "description_tooltip": null,
            "layout": "IPY_MODEL_74b99eff3bab449ca95b37c1ab701461",
            "placeholder": "​",
            "style": "IPY_MODEL_aa3733a6f73d4a96bd6ce2c8aacb12b8",
            "value": " 112/112 [00:00&lt;00:00, 7.44kB/s]"
          }
        },
        "cd3e51e2221248b69d5be2d3bf2c9f70": {
          "model_module": "@jupyter-widgets/base",
          "model_name": "LayoutModel",
          "model_module_version": "1.2.0",
          "state": {
            "_model_module": "@jupyter-widgets/base",
            "_model_module_version": "1.2.0",
            "_model_name": "LayoutModel",
            "_view_count": null,
            "_view_module": "@jupyter-widgets/base",
            "_view_module_version": "1.2.0",
            "_view_name": "LayoutView",
            "align_content": null,
            "align_items": null,
            "align_self": null,
            "border": null,
            "bottom": null,
            "display": null,
            "flex": null,
            "flex_flow": null,
            "grid_area": null,
            "grid_auto_columns": null,
            "grid_auto_flow": null,
            "grid_auto_rows": null,
            "grid_column": null,
            "grid_gap": null,
            "grid_row": null,
            "grid_template_areas": null,
            "grid_template_columns": null,
            "grid_template_rows": null,
            "height": null,
            "justify_content": null,
            "justify_items": null,
            "left": null,
            "margin": null,
            "max_height": null,
            "max_width": null,
            "min_height": null,
            "min_width": null,
            "object_fit": null,
            "object_position": null,
            "order": null,
            "overflow": null,
            "overflow_x": null,
            "overflow_y": null,
            "padding": null,
            "right": null,
            "top": null,
            "visibility": null,
            "width": null
          }
        },
        "0f6b97d8b2f5457aa7672300f88f34b6": {
          "model_module": "@jupyter-widgets/base",
          "model_name": "LayoutModel",
          "model_module_version": "1.2.0",
          "state": {
            "_model_module": "@jupyter-widgets/base",
            "_model_module_version": "1.2.0",
            "_model_name": "LayoutModel",
            "_view_count": null,
            "_view_module": "@jupyter-widgets/base",
            "_view_module_version": "1.2.0",
            "_view_name": "LayoutView",
            "align_content": null,
            "align_items": null,
            "align_self": null,
            "border": null,
            "bottom": null,
            "display": null,
            "flex": null,
            "flex_flow": null,
            "grid_area": null,
            "grid_auto_columns": null,
            "grid_auto_flow": null,
            "grid_auto_rows": null,
            "grid_column": null,
            "grid_gap": null,
            "grid_row": null,
            "grid_template_areas": null,
            "grid_template_columns": null,
            "grid_template_rows": null,
            "height": null,
            "justify_content": null,
            "justify_items": null,
            "left": null,
            "margin": null,
            "max_height": null,
            "max_width": null,
            "min_height": null,
            "min_width": null,
            "object_fit": null,
            "object_position": null,
            "order": null,
            "overflow": null,
            "overflow_x": null,
            "overflow_y": null,
            "padding": null,
            "right": null,
            "top": null,
            "visibility": null,
            "width": null
          }
        },
        "017ed2bba53c4336862d8f08dd90353e": {
          "model_module": "@jupyter-widgets/controls",
          "model_name": "DescriptionStyleModel",
          "model_module_version": "1.5.0",
          "state": {
            "_model_module": "@jupyter-widgets/controls",
            "_model_module_version": "1.5.0",
            "_model_name": "DescriptionStyleModel",
            "_view_count": null,
            "_view_module": "@jupyter-widgets/base",
            "_view_module_version": "1.2.0",
            "_view_name": "StyleView",
            "description_width": ""
          }
        },
        "4ea96c18f0164263921cb4bcba8c4f97": {
          "model_module": "@jupyter-widgets/base",
          "model_name": "LayoutModel",
          "model_module_version": "1.2.0",
          "state": {
            "_model_module": "@jupyter-widgets/base",
            "_model_module_version": "1.2.0",
            "_model_name": "LayoutModel",
            "_view_count": null,
            "_view_module": "@jupyter-widgets/base",
            "_view_module_version": "1.2.0",
            "_view_name": "LayoutView",
            "align_content": null,
            "align_items": null,
            "align_self": null,
            "border": null,
            "bottom": null,
            "display": null,
            "flex": null,
            "flex_flow": null,
            "grid_area": null,
            "grid_auto_columns": null,
            "grid_auto_flow": null,
            "grid_auto_rows": null,
            "grid_column": null,
            "grid_gap": null,
            "grid_row": null,
            "grid_template_areas": null,
            "grid_template_columns": null,
            "grid_template_rows": null,
            "height": null,
            "justify_content": null,
            "justify_items": null,
            "left": null,
            "margin": null,
            "max_height": null,
            "max_width": null,
            "min_height": null,
            "min_width": null,
            "object_fit": null,
            "object_position": null,
            "order": null,
            "overflow": null,
            "overflow_x": null,
            "overflow_y": null,
            "padding": null,
            "right": null,
            "top": null,
            "visibility": null,
            "width": null
          }
        },
        "8cc5c0606c9548e5b165f2d74c5c5474": {
          "model_module": "@jupyter-widgets/controls",
          "model_name": "ProgressStyleModel",
          "model_module_version": "1.5.0",
          "state": {
            "_model_module": "@jupyter-widgets/controls",
            "_model_module_version": "1.5.0",
            "_model_name": "ProgressStyleModel",
            "_view_count": null,
            "_view_module": "@jupyter-widgets/base",
            "_view_module_version": "1.2.0",
            "_view_name": "StyleView",
            "bar_color": null,
            "description_width": ""
          }
        },
        "74b99eff3bab449ca95b37c1ab701461": {
          "model_module": "@jupyter-widgets/base",
          "model_name": "LayoutModel",
          "model_module_version": "1.2.0",
          "state": {
            "_model_module": "@jupyter-widgets/base",
            "_model_module_version": "1.2.0",
            "_model_name": "LayoutModel",
            "_view_count": null,
            "_view_module": "@jupyter-widgets/base",
            "_view_module_version": "1.2.0",
            "_view_name": "LayoutView",
            "align_content": null,
            "align_items": null,
            "align_self": null,
            "border": null,
            "bottom": null,
            "display": null,
            "flex": null,
            "flex_flow": null,
            "grid_area": null,
            "grid_auto_columns": null,
            "grid_auto_flow": null,
            "grid_auto_rows": null,
            "grid_column": null,
            "grid_gap": null,
            "grid_row": null,
            "grid_template_areas": null,
            "grid_template_columns": null,
            "grid_template_rows": null,
            "height": null,
            "justify_content": null,
            "justify_items": null,
            "left": null,
            "margin": null,
            "max_height": null,
            "max_width": null,
            "min_height": null,
            "min_width": null,
            "object_fit": null,
            "object_position": null,
            "order": null,
            "overflow": null,
            "overflow_x": null,
            "overflow_y": null,
            "padding": null,
            "right": null,
            "top": null,
            "visibility": null,
            "width": null
          }
        },
        "aa3733a6f73d4a96bd6ce2c8aacb12b8": {
          "model_module": "@jupyter-widgets/controls",
          "model_name": "DescriptionStyleModel",
          "model_module_version": "1.5.0",
          "state": {
            "_model_module": "@jupyter-widgets/controls",
            "_model_module_version": "1.5.0",
            "_model_name": "DescriptionStyleModel",
            "_view_count": null,
            "_view_module": "@jupyter-widgets/base",
            "_view_module_version": "1.2.0",
            "_view_name": "StyleView",
            "description_width": ""
          }
        },
        "2129f488259d4987893203b744077269": {
          "model_module": "@jupyter-widgets/controls",
          "model_name": "HBoxModel",
          "model_module_version": "1.5.0",
          "state": {
            "_dom_classes": [],
            "_model_module": "@jupyter-widgets/controls",
            "_model_module_version": "1.5.0",
            "_model_name": "HBoxModel",
            "_view_count": null,
            "_view_module": "@jupyter-widgets/controls",
            "_view_module_version": "1.5.0",
            "_view_name": "HBoxView",
            "box_style": "",
            "children": [
              "IPY_MODEL_e7d9a20c64a44aa58720e81002058a3a",
              "IPY_MODEL_9d5c19c402ba4add9dce14442c08fa89",
              "IPY_MODEL_211390f9fdd645529f4ed53b142fc0a4"
            ],
            "layout": "IPY_MODEL_54a8e3773adf41bdbcfb9aa682c9dc91"
          }
        },
        "e7d9a20c64a44aa58720e81002058a3a": {
          "model_module": "@jupyter-widgets/controls",
          "model_name": "HTMLModel",
          "model_module_version": "1.5.0",
          "state": {
            "_dom_classes": [],
            "_model_module": "@jupyter-widgets/controls",
            "_model_module_version": "1.5.0",
            "_model_name": "HTMLModel",
            "_view_count": null,
            "_view_module": "@jupyter-widgets/controls",
            "_view_module_version": "1.5.0",
            "_view_name": "HTMLView",
            "description": "",
            "description_tooltip": null,
            "layout": "IPY_MODEL_a68e4ce6fe5e4bf9a1e85deb371381bd",
            "placeholder": "​",
            "style": "IPY_MODEL_cc75907b0c44400885ec2d003c3d6d05",
            "value": "Downloading pytorch_model.bin: 100%"
          }
        },
        "9d5c19c402ba4add9dce14442c08fa89": {
          "model_module": "@jupyter-widgets/controls",
          "model_name": "FloatProgressModel",
          "model_module_version": "1.5.0",
          "state": {
            "_dom_classes": [],
            "_model_module": "@jupyter-widgets/controls",
            "_model_module_version": "1.5.0",
            "_model_name": "FloatProgressModel",
            "_view_count": null,
            "_view_module": "@jupyter-widgets/controls",
            "_view_module_version": "1.5.0",
            "_view_name": "ProgressView",
            "bar_style": "success",
            "description": "",
            "description_tooltip": null,
            "layout": "IPY_MODEL_0fed9e049ec442659ba3325d6d829b57",
            "max": 651478185,
            "min": 0,
            "orientation": "horizontal",
            "style": "IPY_MODEL_d1ea32fb96b640be98b6b5e5169ad5e6",
            "value": 651478185
          }
        },
        "211390f9fdd645529f4ed53b142fc0a4": {
          "model_module": "@jupyter-widgets/controls",
          "model_name": "HTMLModel",
          "model_module_version": "1.5.0",
          "state": {
            "_dom_classes": [],
            "_model_module": "@jupyter-widgets/controls",
            "_model_module_version": "1.5.0",
            "_model_name": "HTMLModel",
            "_view_count": null,
            "_view_module": "@jupyter-widgets/controls",
            "_view_module_version": "1.5.0",
            "_view_name": "HTMLView",
            "description": "",
            "description_tooltip": null,
            "layout": "IPY_MODEL_e4c08c46e6194449ad43b3fb3f9ca40c",
            "placeholder": "​",
            "style": "IPY_MODEL_b8a6f82e54c14d048c27a2ac3579c948",
            "value": " 651M/651M [00:03&lt;00:00, 191MB/s]"
          }
        },
        "54a8e3773adf41bdbcfb9aa682c9dc91": {
          "model_module": "@jupyter-widgets/base",
          "model_name": "LayoutModel",
          "model_module_version": "1.2.0",
          "state": {
            "_model_module": "@jupyter-widgets/base",
            "_model_module_version": "1.2.0",
            "_model_name": "LayoutModel",
            "_view_count": null,
            "_view_module": "@jupyter-widgets/base",
            "_view_module_version": "1.2.0",
            "_view_name": "LayoutView",
            "align_content": null,
            "align_items": null,
            "align_self": null,
            "border": null,
            "bottom": null,
            "display": null,
            "flex": null,
            "flex_flow": null,
            "grid_area": null,
            "grid_auto_columns": null,
            "grid_auto_flow": null,
            "grid_auto_rows": null,
            "grid_column": null,
            "grid_gap": null,
            "grid_row": null,
            "grid_template_areas": null,
            "grid_template_columns": null,
            "grid_template_rows": null,
            "height": null,
            "justify_content": null,
            "justify_items": null,
            "left": null,
            "margin": null,
            "max_height": null,
            "max_width": null,
            "min_height": null,
            "min_width": null,
            "object_fit": null,
            "object_position": null,
            "order": null,
            "overflow": null,
            "overflow_x": null,
            "overflow_y": null,
            "padding": null,
            "right": null,
            "top": null,
            "visibility": null,
            "width": null
          }
        },
        "a68e4ce6fe5e4bf9a1e85deb371381bd": {
          "model_module": "@jupyter-widgets/base",
          "model_name": "LayoutModel",
          "model_module_version": "1.2.0",
          "state": {
            "_model_module": "@jupyter-widgets/base",
            "_model_module_version": "1.2.0",
            "_model_name": "LayoutModel",
            "_view_count": null,
            "_view_module": "@jupyter-widgets/base",
            "_view_module_version": "1.2.0",
            "_view_name": "LayoutView",
            "align_content": null,
            "align_items": null,
            "align_self": null,
            "border": null,
            "bottom": null,
            "display": null,
            "flex": null,
            "flex_flow": null,
            "grid_area": null,
            "grid_auto_columns": null,
            "grid_auto_flow": null,
            "grid_auto_rows": null,
            "grid_column": null,
            "grid_gap": null,
            "grid_row": null,
            "grid_template_areas": null,
            "grid_template_columns": null,
            "grid_template_rows": null,
            "height": null,
            "justify_content": null,
            "justify_items": null,
            "left": null,
            "margin": null,
            "max_height": null,
            "max_width": null,
            "min_height": null,
            "min_width": null,
            "object_fit": null,
            "object_position": null,
            "order": null,
            "overflow": null,
            "overflow_x": null,
            "overflow_y": null,
            "padding": null,
            "right": null,
            "top": null,
            "visibility": null,
            "width": null
          }
        },
        "cc75907b0c44400885ec2d003c3d6d05": {
          "model_module": "@jupyter-widgets/controls",
          "model_name": "DescriptionStyleModel",
          "model_module_version": "1.5.0",
          "state": {
            "_model_module": "@jupyter-widgets/controls",
            "_model_module_version": "1.5.0",
            "_model_name": "DescriptionStyleModel",
            "_view_count": null,
            "_view_module": "@jupyter-widgets/base",
            "_view_module_version": "1.2.0",
            "_view_name": "StyleView",
            "description_width": ""
          }
        },
        "0fed9e049ec442659ba3325d6d829b57": {
          "model_module": "@jupyter-widgets/base",
          "model_name": "LayoutModel",
          "model_module_version": "1.2.0",
          "state": {
            "_model_module": "@jupyter-widgets/base",
            "_model_module_version": "1.2.0",
            "_model_name": "LayoutModel",
            "_view_count": null,
            "_view_module": "@jupyter-widgets/base",
            "_view_module_version": "1.2.0",
            "_view_name": "LayoutView",
            "align_content": null,
            "align_items": null,
            "align_self": null,
            "border": null,
            "bottom": null,
            "display": null,
            "flex": null,
            "flex_flow": null,
            "grid_area": null,
            "grid_auto_columns": null,
            "grid_auto_flow": null,
            "grid_auto_rows": null,
            "grid_column": null,
            "grid_gap": null,
            "grid_row": null,
            "grid_template_areas": null,
            "grid_template_columns": null,
            "grid_template_rows": null,
            "height": null,
            "justify_content": null,
            "justify_items": null,
            "left": null,
            "margin": null,
            "max_height": null,
            "max_width": null,
            "min_height": null,
            "min_width": null,
            "object_fit": null,
            "object_position": null,
            "order": null,
            "overflow": null,
            "overflow_x": null,
            "overflow_y": null,
            "padding": null,
            "right": null,
            "top": null,
            "visibility": null,
            "width": null
          }
        },
        "d1ea32fb96b640be98b6b5e5169ad5e6": {
          "model_module": "@jupyter-widgets/controls",
          "model_name": "ProgressStyleModel",
          "model_module_version": "1.5.0",
          "state": {
            "_model_module": "@jupyter-widgets/controls",
            "_model_module_version": "1.5.0",
            "_model_name": "ProgressStyleModel",
            "_view_count": null,
            "_view_module": "@jupyter-widgets/base",
            "_view_module_version": "1.2.0",
            "_view_name": "StyleView",
            "bar_color": null,
            "description_width": ""
          }
        },
        "e4c08c46e6194449ad43b3fb3f9ca40c": {
          "model_module": "@jupyter-widgets/base",
          "model_name": "LayoutModel",
          "model_module_version": "1.2.0",
          "state": {
            "_model_module": "@jupyter-widgets/base",
            "_model_module_version": "1.2.0",
            "_model_name": "LayoutModel",
            "_view_count": null,
            "_view_module": "@jupyter-widgets/base",
            "_view_module_version": "1.2.0",
            "_view_name": "LayoutView",
            "align_content": null,
            "align_items": null,
            "align_self": null,
            "border": null,
            "bottom": null,
            "display": null,
            "flex": null,
            "flex_flow": null,
            "grid_area": null,
            "grid_auto_columns": null,
            "grid_auto_flow": null,
            "grid_auto_rows": null,
            "grid_column": null,
            "grid_gap": null,
            "grid_row": null,
            "grid_template_areas": null,
            "grid_template_columns": null,
            "grid_template_rows": null,
            "height": null,
            "justify_content": null,
            "justify_items": null,
            "left": null,
            "margin": null,
            "max_height": null,
            "max_width": null,
            "min_height": null,
            "min_width": null,
            "object_fit": null,
            "object_position": null,
            "order": null,
            "overflow": null,
            "overflow_x": null,
            "overflow_y": null,
            "padding": null,
            "right": null,
            "top": null,
            "visibility": null,
            "width": null
          }
        },
        "b8a6f82e54c14d048c27a2ac3579c948": {
          "model_module": "@jupyter-widgets/controls",
          "model_name": "DescriptionStyleModel",
          "model_module_version": "1.5.0",
          "state": {
            "_model_module": "@jupyter-widgets/controls",
            "_model_module_version": "1.5.0",
            "_model_name": "DescriptionStyleModel",
            "_view_count": null,
            "_view_module": "@jupyter-widgets/base",
            "_view_module_version": "1.2.0",
            "_view_name": "StyleView",
            "description_width": ""
          }
        }
      }
    }
  },
  "cells": [
    {
      "cell_type": "markdown",
      "source": [
        "# <strong><font color=#A52A2A></span> NLP_HW4 </strong>\n",
        "Dr Asgari - Spring 2023\n",
        "<br>\n",
        "98101566 -> Mohammadreza Daviran\n",
        "<br>\n",
        "98170668 -> Sara Azarnoush\n",
        "<br>\n",
        "98171007 -> Nona Ghazizadeh\n",
        "<br>\n",
        "<strong><font color=#A52A2A> Named Entity Recognition (NER)"
      ],
      "metadata": {
        "id": "uopcqy7eBlue"
      }
    },
    {
      "cell_type": "markdown",
      "source": [
        "# <font color='red'> Table of content\n",
        "-------"
      ],
      "metadata": {
        "id": "lYzvlb7WBmj8"
      }
    },
    {
      "cell_type": "markdown",
      "source": [
        " - Intoduction\n",
        " - Requirements\n",
        "    - Download\n",
        "    - Import\n",
        " - Prepare\n",
        "   - Model\n",
        "   - Data\n",
        " - Labels\n",
        "    - Check\n",
        "    - Translate\n",
        " - Predict\n",
        " - Calculate\n",
        " - Evaluation\n"
      ],
      "metadata": {
        "id": "HnbA3ScRBo5H"
      }
    },
    {
      "cell_type": "markdown",
      "source": [
        "# <font color='red'> Introduction </font>\n",
        "-------\n",
        "\n",
        "In this project, we extract information to locate and classify named entities mentioned in unstructured text into pre-defined categories including \\\\\n",
        "Person (PER), Location (LOC), Main location (mainLoc), Event (EVE), Date (DAT), Organization (ORG), Time (TIM), Facility (FAC), Money (MON), Percent (PCT), Product (PRO). \\\\\n",
        "First, we import our requirements and download our dataset then preprocess data and translate our dataset labels to model labels and train our model. In the end, we check our true and predicted outputs and evaluate them. \\\\\n",
        "More information is available in each section."
      ],
      "metadata": {
        "id": "YxxYYEUWBtX7"
      }
    },
    {
      "cell_type": "markdown",
      "source": [
        "# <font color='red'> Requirements </font>\n",
        "-------\n",
        "\n",
        "Download and import requirements for this project"
      ],
      "metadata": {
        "id": "dM0lx0FZBvxh"
      }
    },
    {
      "cell_type": "markdown",
      "source": [
        "## <font color='green'> Download </font>\n",
        "\n",
        "Download project requirements\n",
        "\n",
        "*note: If you get an error uninstall and install numpy then restart the execution and run again."
      ],
      "metadata": {
        "id": "BS6VfBqQBxl_"
      }
    },
    {
      "cell_type": "code",
      "source": [
        "# !pip uninstall numpy"
      ],
      "metadata": {
        "id": "YbOo_i9-OHK5"
      },
      "execution_count": null,
      "outputs": []
    },
    {
      "cell_type": "code",
      "source": [
        "!pip install numpy"
      ],
      "metadata": {
        "id": "bKaBKFQrOEEX",
        "colab": {
          "base_uri": "https://localhost:8080/"
        },
        "outputId": "cd5e3422-8b28-4fc4-e40b-d895d640032f"
      },
      "execution_count": null,
      "outputs": [
        {
          "output_type": "stream",
          "name": "stdout",
          "text": [
            "Requirement already satisfied: numpy in /usr/local/lib/python3.10/dist-packages (1.25.0)\n"
          ]
        }
      ]
    },
    {
      "cell_type": "code",
      "source": [
        "!pip install transformers\n",
        "!pip install hazm\n",
        "!pip install seqeval\n",
        "!pip install keras-preprocessing"
      ],
      "metadata": {
        "id": "DI9uCrdFByY9",
        "colab": {
          "base_uri": "https://localhost:8080/"
        },
        "outputId": "3095053f-2c4c-4b73-dc33-3318f7868eac"
      },
      "execution_count": null,
      "outputs": [
        {
          "output_type": "stream",
          "name": "stdout",
          "text": [
            "Collecting transformers\n",
            "  Using cached transformers-4.30.2-py3-none-any.whl (7.2 MB)\n",
            "Requirement already satisfied: filelock in /usr/local/lib/python3.10/dist-packages (from transformers) (3.12.2)\n",
            "Collecting huggingface-hub<1.0,>=0.14.1 (from transformers)\n",
            "  Using cached huggingface_hub-0.16.3-py3-none-any.whl (268 kB)\n",
            "Requirement already satisfied: numpy>=1.17 in /usr/local/lib/python3.10/dist-packages (from transformers) (1.25.0)\n",
            "Requirement already satisfied: packaging>=20.0 in /usr/local/lib/python3.10/dist-packages (from transformers) (23.1)\n",
            "Requirement already satisfied: pyyaml>=5.1 in /usr/local/lib/python3.10/dist-packages (from transformers) (6.0)\n",
            "Requirement already satisfied: regex!=2019.12.17 in /usr/local/lib/python3.10/dist-packages (from transformers) (2022.10.31)\n",
            "Requirement already satisfied: requests in /usr/local/lib/python3.10/dist-packages (from transformers) (2.27.1)\n",
            "Collecting tokenizers!=0.11.3,<0.14,>=0.11.1 (from transformers)\n",
            "  Using cached tokenizers-0.13.3-cp310-cp310-manylinux_2_17_x86_64.manylinux2014_x86_64.whl (7.8 MB)\n",
            "Collecting safetensors>=0.3.1 (from transformers)\n",
            "  Using cached safetensors-0.3.1-cp310-cp310-manylinux_2_17_x86_64.manylinux2014_x86_64.whl (1.3 MB)\n",
            "Requirement already satisfied: tqdm>=4.27 in /usr/local/lib/python3.10/dist-packages (from transformers) (4.65.0)\n",
            "Requirement already satisfied: fsspec in /usr/local/lib/python3.10/dist-packages (from huggingface-hub<1.0,>=0.14.1->transformers) (2023.6.0)\n",
            "Requirement already satisfied: typing-extensions>=3.7.4.3 in /usr/local/lib/python3.10/dist-packages (from huggingface-hub<1.0,>=0.14.1->transformers) (4.6.3)\n",
            "Requirement already satisfied: urllib3<1.27,>=1.21.1 in /usr/local/lib/python3.10/dist-packages (from requests->transformers) (1.26.16)\n",
            "Requirement already satisfied: certifi>=2017.4.17 in /usr/local/lib/python3.10/dist-packages (from requests->transformers) (2023.5.7)\n",
            "Requirement already satisfied: charset-normalizer~=2.0.0 in /usr/local/lib/python3.10/dist-packages (from requests->transformers) (2.0.12)\n",
            "Requirement already satisfied: idna<4,>=2.5 in /usr/local/lib/python3.10/dist-packages (from requests->transformers) (3.4)\n",
            "Installing collected packages: tokenizers, safetensors, huggingface-hub, transformers\n",
            "Successfully installed huggingface-hub-0.16.3 safetensors-0.3.1 tokenizers-0.13.3 transformers-4.30.2\n",
            "Collecting hazm\n",
            "  Downloading hazm-0.9.1-py3-none-any.whl (349 kB)\n",
            "\u001b[2K     \u001b[90m━━━━━━━━━━━━━━━━━━━━━━━━━━━━━━━━━━━━━━━\u001b[0m \u001b[32m349.7/349.7 kB\u001b[0m \u001b[31m4.5 MB/s\u001b[0m eta \u001b[36m0:00:00\u001b[0m\n",
            "\u001b[?25hRequirement already satisfied: gensim<5.0.0,>=4.3.1 in /usr/local/lib/python3.10/dist-packages (from hazm) (4.3.1)\n",
            "Requirement already satisfied: nltk<4.0.0,>=3.8.1 in /usr/local/lib/python3.10/dist-packages (from hazm) (3.8.1)\n",
            "Requirement already satisfied: numpy<2.0.0,>=1.24.3 in /usr/local/lib/python3.10/dist-packages (from hazm) (1.25.0)\n",
            "Collecting python-crfsuite<0.10.0,>=0.9.9 (from hazm)\n",
            "  Downloading python_crfsuite-0.9.9-cp310-cp310-manylinux_2_17_x86_64.manylinux2014_x86_64.whl (993 kB)\n",
            "\u001b[2K     \u001b[90m━━━━━━━━━━━━━━━━━━━━━━━━━━━━━━━━━━━━━━━\u001b[0m \u001b[32m993.5/993.5 kB\u001b[0m \u001b[31m9.3 MB/s\u001b[0m eta \u001b[36m0:00:00\u001b[0m\n",
            "\u001b[?25hRequirement already satisfied: scikit-learn<2.0.0,>=1.2.2 in /usr/local/lib/python3.10/dist-packages (from hazm) (1.2.2)\n",
            "Requirement already satisfied: scipy>=1.7.0 in /usr/local/lib/python3.10/dist-packages (from gensim<5.0.0,>=4.3.1->hazm) (1.10.1)\n",
            "Requirement already satisfied: smart-open>=1.8.1 in /usr/local/lib/python3.10/dist-packages (from gensim<5.0.0,>=4.3.1->hazm) (6.3.0)\n",
            "Requirement already satisfied: click in /usr/local/lib/python3.10/dist-packages (from nltk<4.0.0,>=3.8.1->hazm) (8.1.3)\n",
            "Requirement already satisfied: joblib in /usr/local/lib/python3.10/dist-packages (from nltk<4.0.0,>=3.8.1->hazm) (1.2.0)\n",
            "Requirement already satisfied: regex>=2021.8.3 in /usr/local/lib/python3.10/dist-packages (from nltk<4.0.0,>=3.8.1->hazm) (2022.10.31)\n",
            "Requirement already satisfied: tqdm in /usr/local/lib/python3.10/dist-packages (from nltk<4.0.0,>=3.8.1->hazm) (4.65.0)\n",
            "Requirement already satisfied: threadpoolctl>=2.0.0 in /usr/local/lib/python3.10/dist-packages (from scikit-learn<2.0.0,>=1.2.2->hazm) (3.1.0)\n",
            "Installing collected packages: python-crfsuite, hazm\n",
            "Successfully installed hazm-0.9.1 python-crfsuite-0.9.9\n",
            "Collecting seqeval\n",
            "  Downloading seqeval-1.2.2.tar.gz (43 kB)\n",
            "\u001b[2K     \u001b[90m━━━━━━━━━━━━━━━━━━━━━━━━━━━━━━━━━━━━━━━━\u001b[0m \u001b[32m43.6/43.6 kB\u001b[0m \u001b[31m2.8 MB/s\u001b[0m eta \u001b[36m0:00:00\u001b[0m\n",
            "\u001b[?25h  Preparing metadata (setup.py) ... \u001b[?25l\u001b[?25hdone\n",
            "Requirement already satisfied: numpy>=1.14.0 in /usr/local/lib/python3.10/dist-packages (from seqeval) (1.25.0)\n",
            "Requirement already satisfied: scikit-learn>=0.21.3 in /usr/local/lib/python3.10/dist-packages (from seqeval) (1.2.2)\n",
            "Requirement already satisfied: scipy>=1.3.2 in /usr/local/lib/python3.10/dist-packages (from scikit-learn>=0.21.3->seqeval) (1.10.1)\n",
            "Requirement already satisfied: joblib>=1.1.1 in /usr/local/lib/python3.10/dist-packages (from scikit-learn>=0.21.3->seqeval) (1.2.0)\n",
            "Requirement already satisfied: threadpoolctl>=2.0.0 in /usr/local/lib/python3.10/dist-packages (from scikit-learn>=0.21.3->seqeval) (3.1.0)\n",
            "Building wheels for collected packages: seqeval\n",
            "  Building wheel for seqeval (setup.py) ... \u001b[?25l\u001b[?25hdone\n",
            "  Created wheel for seqeval: filename=seqeval-1.2.2-py3-none-any.whl size=16165 sha256=fd4d698739d9f6fd21531eff7c4e1707a314c71dd5e7aff1515ae79ed61e578b\n",
            "  Stored in directory: /root/.cache/pip/wheels/1a/67/4a/ad4082dd7dfc30f2abfe4d80a2ed5926a506eb8a972b4767fa\n",
            "Successfully built seqeval\n",
            "Installing collected packages: seqeval\n",
            "Successfully installed seqeval-1.2.2\n",
            "Requirement already satisfied: keras-preprocessing in /usr/local/lib/python3.10/dist-packages (1.1.2)\n",
            "Requirement already satisfied: numpy>=1.9.1 in /usr/local/lib/python3.10/dist-packages (from keras-preprocessing) (1.25.0)\n",
            "Requirement already satisfied: six>=1.9.0 in /usr/local/lib/python3.10/dist-packages (from keras-preprocessing) (1.16.0)\n"
          ]
        }
      ]
    },
    {
      "cell_type": "markdown",
      "source": [
        "## <font color='green'> Import </font>\n",
        "\n",
        "Import project requirements"
      ],
      "metadata": {
        "id": "rfMvZucRB0_J"
      }
    },
    {
      "cell_type": "code",
      "source": [
        "import os\n",
        "import gc\n",
        "import ast\n",
        "import time\n",
        "import hazm\n",
        "import numpy as np\n",
        "import pandas as pd\n",
        "import torch\n",
        "import torch.nn as nn\n",
        "import torch.nn.functional as F\n",
        "from torch.utils.data import TensorDataset, DataLoader, RandomSampler, SequentialSampler\n",
        "import transformers\n",
        "from transformers import AutoTokenizer, AutoConfig\n",
        "from transformers import AutoModelForTokenClassification\n",
        "from keras_preprocessing.sequence import pad_sequences\n",
        "from sklearn.model_selection import train_test_split\n",
        "from seqeval.metrics import accuracy_score, precision_score, recall_score, f1_score, classification_report\n"
      ],
      "metadata": {
        "id": "QOJeleKFNCyq"
      },
      "execution_count": null,
      "outputs": []
    },
    {
      "cell_type": "code",
      "source": [
        "if torch.cuda.is_available():\n",
        "    device = torch.device(\"cuda\")\n",
        "else:\n",
        "    device = torch.device(\"cpu\")"
      ],
      "metadata": {
        "id": "twaBP7GcKrYq"
      },
      "execution_count": null,
      "outputs": []
    },
    {
      "cell_type": "markdown",
      "source": [
        "# <font color='red'> Prepare </font>\n",
        "-------\n",
        "\n",
        "Download dataset and preprocess data and then use model."
      ],
      "metadata": {
        "id": "gGkGVYtBB1Rf"
      }
    },
    {
      "cell_type": "markdown",
      "source": [
        "## <font color='green'> Model </font>\n",
        "\n",
        "Preprocess data and use bert-base-parsbert-ner-uncased model for classification."
      ],
      "metadata": {
        "id": "2mhXn2A4O6ud"
      }
    },
    {
      "cell_type": "code",
      "source": [
        "class NER:\n",
        "    def __init__(self, model_name):\n",
        "        self.normalizer = hazm.Normalizer()\n",
        "        self.model_name = model_name\n",
        "        self.config = AutoConfig.from_pretrained(self.model_name)\n",
        "        self.tokenizer = AutoTokenizer.from_pretrained(self.model_name)\n",
        "        self.model = AutoModelForTokenClassification.from_pretrained(self.model_name)\n",
        "        self.id2label = self.config.id2label"
      ],
      "metadata": {
        "id": "kPpTPjE-f11O"
      },
      "execution_count": null,
      "outputs": []
    },
    {
      "cell_type": "code",
      "source": [
        "model_name='HooshvareLab/bert-base-parsbert-ner-uncased'\n",
        "ner_model = NER(model_name)"
      ],
      "metadata": {
        "id": "6SnGcxwUNKeW",
        "colab": {
          "base_uri": "https://localhost:8080/",
          "height": 177,
          "referenced_widgets": [
            "3398fb8c7df6443a977ca476a6ed7423",
            "225dcfae931542fbb89db6013872a2f4",
            "bd988f71285a4998ad519782d8006947",
            "e4e8a2c6abdf47c895538c5f45581b89",
            "0aaabbc871cc4bd7a450a994e3740648",
            "ad8884090a2a487ea3306a9d8b2d4d87",
            "1253365e427e454482110c61f0f0f38d",
            "449ef495d7ac4a37a1cb9022e9d7b126",
            "16fce964587d487dadee783297875cc2",
            "d793cc95ee1f4165a6c0baa67cec2b10",
            "904acd5b5c0b4ab68aa4956a652ac1d4",
            "a75c792b27444a07822a57c07a024668",
            "dd4d59e03db84c10b26db20a758626ef",
            "ab812894f7b44a68aa8b7b3b6999bd8f",
            "8317964ef21e4e16bfe71a4a4b8fbabe",
            "0f635f33ef9047aa8651f8b59f90f167",
            "037c34dcce28485bb227d1b81b1fea87",
            "8b4a3ffeeea04c2589deaebca64c18d0",
            "9a90584672dd4c049b1c227170045ede",
            "1afa116c9dc8413091c89c22aa106038",
            "561c3632e7404cad8578a0a44367aa53",
            "17accb8380aa4fa2a48f84934d33fac9",
            "c74ebf34354b4d0690e9a12bf74777ee",
            "c2ceaf4d54c24a2aa6130094eb307b1c",
            "d189428ce4104180ad8b1e35c322b916",
            "a22b947b5e8c47b0ad40008d8ae15ba7",
            "c843a7990ade46ea80761718bc3fdd49",
            "18f85fc2c3b34cc3afd44cf6161e40f8",
            "55d605126e7c4d5ebdc1210062e2336a",
            "a51cb730b783494294007e28c5d01f9f",
            "337b84f552814da39f888acf1c94d449",
            "844ed0a94455429590170b6806442db2",
            "63d2410c574447abb238a5f2774a460e",
            "246219db9ca442f48477bfefde652fe5",
            "671a3eab103c45a29583420eb6a7e478",
            "b72e2ff062804f9bb880d056ec34568b",
            "aaa7703893ac4065a35cef96a882ef96",
            "cd3e51e2221248b69d5be2d3bf2c9f70",
            "0f6b97d8b2f5457aa7672300f88f34b6",
            "017ed2bba53c4336862d8f08dd90353e",
            "4ea96c18f0164263921cb4bcba8c4f97",
            "8cc5c0606c9548e5b165f2d74c5c5474",
            "74b99eff3bab449ca95b37c1ab701461",
            "aa3733a6f73d4a96bd6ce2c8aacb12b8",
            "2129f488259d4987893203b744077269",
            "e7d9a20c64a44aa58720e81002058a3a",
            "9d5c19c402ba4add9dce14442c08fa89",
            "211390f9fdd645529f4ed53b142fc0a4",
            "54a8e3773adf41bdbcfb9aa682c9dc91",
            "a68e4ce6fe5e4bf9a1e85deb371381bd",
            "cc75907b0c44400885ec2d003c3d6d05",
            "0fed9e049ec442659ba3325d6d829b57",
            "d1ea32fb96b640be98b6b5e5169ad5e6",
            "e4c08c46e6194449ad43b3fb3f9ca40c",
            "b8a6f82e54c14d048c27a2ac3579c948"
          ]
        },
        "outputId": "8f7864ef-79da-485d-9377-37a7add3ba5f"
      },
      "execution_count": null,
      "outputs": [
        {
          "output_type": "display_data",
          "data": {
            "text/plain": [
              "Downloading (…)lve/main/config.json:   0%|          | 0.00/1.36k [00:00<?, ?B/s]"
            ],
            "application/vnd.jupyter.widget-view+json": {
              "version_major": 2,
              "version_minor": 0,
              "model_id": "3398fb8c7df6443a977ca476a6ed7423"
            }
          },
          "metadata": {}
        },
        {
          "output_type": "display_data",
          "data": {
            "text/plain": [
              "Downloading (…)okenizer_config.json:   0%|          | 0.00/2.00 [00:00<?, ?B/s]"
            ],
            "application/vnd.jupyter.widget-view+json": {
              "version_major": 2,
              "version_minor": 0,
              "model_id": "a75c792b27444a07822a57c07a024668"
            }
          },
          "metadata": {}
        },
        {
          "output_type": "display_data",
          "data": {
            "text/plain": [
              "Downloading (…)solve/main/vocab.txt:   0%|          | 0.00/1.22M [00:00<?, ?B/s]"
            ],
            "application/vnd.jupyter.widget-view+json": {
              "version_major": 2,
              "version_minor": 0,
              "model_id": "c74ebf34354b4d0690e9a12bf74777ee"
            }
          },
          "metadata": {}
        },
        {
          "output_type": "display_data",
          "data": {
            "text/plain": [
              "Downloading (…)cial_tokens_map.json:   0%|          | 0.00/112 [00:00<?, ?B/s]"
            ],
            "application/vnd.jupyter.widget-view+json": {
              "version_major": 2,
              "version_minor": 0,
              "model_id": "246219db9ca442f48477bfefde652fe5"
            }
          },
          "metadata": {}
        },
        {
          "output_type": "display_data",
          "data": {
            "text/plain": [
              "Downloading pytorch_model.bin:   0%|          | 0.00/651M [00:00<?, ?B/s]"
            ],
            "application/vnd.jupyter.widget-view+json": {
              "version_major": 2,
              "version_minor": 0,
              "model_id": "2129f488259d4987893203b744077269"
            }
          },
          "metadata": {}
        }
      ]
    },
    {
      "cell_type": "markdown",
      "source": [
        "## <font color='green'> Data </font>\n",
        "\n",
        "We create our dataset with arman+peyma+wikiann datasets and add some changes to it. It has 11 tags include: Person (PER), Location (LOC), Main location (mainLoc), Event (EVE), Date (DAT), Organization (ORG), Time (TIM),  Facility (FAC), Money (MON), Percent (PCT), Product (PRO).\n",
        "\n",
        "Dataset available in:\n",
        "\n",
        "https://drive.google.com/file/d/1w9ubKB-QOz1P99-HmusuWLM2akJBIjNs/view?usp=sharing\n",
        "\n"
      ],
      "metadata": {
        "id": "P6fT9HHmVkR-"
      }
    },
    {
      "cell_type": "markdown",
      "source": [
        "Download dataset from googledrive and unzip"
      ],
      "metadata": {
        "id": "s9YGbdv2fnlU"
      }
    },
    {
      "cell_type": "code",
      "source": [
        "from pydrive.auth import GoogleAuth\n",
        "from pydrive.drive import GoogleDrive\n",
        "from google.colab import auth\n",
        "from oauth2client.client import GoogleCredentials\n",
        "\n",
        "auth.authenticate_user()\n",
        "gauth = GoogleAuth()\n",
        "gauth.credentials = GoogleCredentials.get_application_default()\n",
        "drive = GoogleDrive(gauth)\n",
        "download = drive.CreateFile({'id': '1w9ubKB-QOz1P99-HmusuWLM2akJBIjNs'})\n",
        "download.GetContentFile('ner-v2edited.zip')\n",
        "!unzip ner-v2edited.zip"
      ],
      "metadata": {
        "id": "SQZ14CN1Rznq",
        "colab": {
          "base_uri": "https://localhost:8080/"
        },
        "outputId": "4d6c6778-feff-427c-f998-b62371f276ac"
      },
      "execution_count": null,
      "outputs": [
        {
          "output_type": "stream",
          "name": "stdout",
          "text": [
            "Archive:  ner-v2edited.zip\n",
            "   creating: ner-edited/\n",
            "   creating: ner-edited/ner/\n",
            "  inflating: ner-edited/ner/ner.csv  \n",
            "  inflating: ner-edited/ner/test.csv  \n",
            "  inflating: ner-edited/ner/train.csv  \n",
            "  inflating: ner-edited/ner/valid.csv  \n"
          ]
        }
      ]
    },
    {
      "cell_type": "markdown",
      "source": [
        "Check file path and read dataset then get words and their lables"
      ],
      "metadata": {
        "id": "NRfX8We6fcLw"
      }
    },
    {
      "cell_type": "code",
      "source": [
        "def load_datasets(self, dataset_dir, **kwargs):\n",
        "            ner_file_path = dataset_dir + 'test.csv'\n",
        "            if not os.path.exists(ner_file_path):\n",
        "                print(ner_file_path)\n",
        "                exit(1)\n",
        "            data = pd.read_csv(ner_file_path, delimiter=\"\\t\")\n",
        "            sentences, sentences_tags = data['tokens'].values.tolist(), data['ner_tags'].values.tolist()\n",
        "            sentences = [ast.literal_eval(ss) for ss in sentences]\n",
        "            sentences_tags = [ast.literal_eval(ss) for ss in sentences_tags]\n",
        "            print(f'test part:\\n #sentences: {len(sentences)}, #sentences_tags: {len(sentences_tags)}')\n",
        "            return sentences, sentences_tags"
      ],
      "metadata": {
        "id": "-CyfWQCniXqK"
      },
      "execution_count": null,
      "outputs": []
    },
    {
      "cell_type": "markdown",
      "source": [
        "Print sentences and labels"
      ],
      "metadata": {
        "id": "rekC4wdQiAww"
      }
    },
    {
      "cell_type": "code",
      "source": [
        "sentences_paw, labels_paw = load_datasets(ner_model, dataset_dir=\"./ner-edited/ner/\")\n",
        "print(len(sentences_paw), len(labels_paw))\n",
        "print(sentences_paw[3])\n",
        "print(labels_paw[3])"
      ],
      "metadata": {
        "id": "XuF9vMKuNQym",
        "colab": {
          "base_uri": "https://localhost:8080/"
        },
        "outputId": "d7e3dc23-58d8-4c85-b6a7-65c7ebd9f55b"
      },
      "execution_count": null,
      "outputs": [
        {
          "output_type": "stream",
          "name": "stdout",
          "text": [
            "test part:\n",
            " #sentences: 6049, #sentences_tags: 6049\n",
            "6049 6049\n",
            "['تهران', 'به', '0', 'کیلومتر', 'بزرگراه', 'نیاز', 'دارد', '.']\n",
            "['LOC', 'O', 'O', 'O', 'O', 'O', 'O', 'O']\n"
          ]
        }
      ]
    },
    {
      "cell_type": "markdown",
      "source": [
        "# <font color='red'>  Labels </font>\n",
        "-------\n",
        "\n",
        "Get dataset and model labels compare them and translate dataset labels to model labels\n"
      ],
      "metadata": {
        "id": "RVMmtl03hxzh"
      }
    },
    {
      "cell_type": "code",
      "source": [
        "def check_label(self, labels):\n",
        "        model_labels = self.config.label2id.keys()\n",
        "        dataset_labels = set()\n",
        "        for l in labels:\n",
        "            dataset_labels.update(set(l))\n",
        "        print(\"model labels:\", model_labels)\n",
        "        print(\"dataset labels:\", dataset_labels)\n",
        "        if list(set(dataset_labels) - set(model_labels)):\n",
        "            return False\n",
        "        return True\n",
        "\n",
        "def resolve_label(labels, label_translation_map):\n",
        "        for i, sentence_labels in enumerate(labels):\n",
        "            for j, label in enumerate(sentence_labels):\n",
        "                labels[i][j] = label_translation_map.get(label)\n",
        "        return labels"
      ],
      "metadata": {
        "id": "5abHtndxh3n0"
      },
      "execution_count": null,
      "outputs": []
    },
    {
      "cell_type": "code",
      "source": [
        "is_consistent = check_label(ner_model, labels_paw)\n",
        "print(is_consistent)"
      ],
      "metadata": {
        "id": "DGyimg1TNTKh",
        "colab": {
          "base_uri": "https://localhost:8080/"
        },
        "outputId": "15e98f8f-5de9-4473-bcd2-99435182be78"
      },
      "execution_count": null,
      "outputs": [
        {
          "output_type": "stream",
          "name": "stdout",
          "text": [
            "model labels: dict_keys(['B-date', 'B-event', 'B-facility', 'B-location', 'B-money', 'B-organization', 'B-percent', 'B-person', 'B-product', 'B-time', 'I-date', 'I-event', 'I-facility', 'I-location', 'I-money', 'I-organization', 'I-percent', 'I-person', 'I-product', 'I-time', 'O'])\n",
            "dataset labels: {'I-MON', 'I-FAC', 'B-DAT', 'B-EVE', 'I-PER', 'B-PCT', 'I-ORG', 'B-FAC', 'I-EVE', 'I-PRO', 'B-PRO', 'O', 'I-TIM', 'I-PCT', 'LOC', 'B-PER', 'I-DAT', 'ⅿainⅬoⅽ', 'B-ORG', 'B-MON', 'B-TIM'}\n",
            "False\n"
          ]
        }
      ]
    },
    {
      "cell_type": "markdown",
      "source": [
        "Translate datadet labels to model labels"
      ],
      "metadata": {
        "id": "eS_Hy-LNkekS"
      }
    },
    {
      "cell_type": "code",
      "source": [
        "label_translate = {\n",
        "    'B-MON': 'B-money',\n",
        "    'I-MON': 'I-money',\n",
        "    'B-ORG': 'B-organization',\n",
        "    'I-ORG': 'I-organization',\n",
        "    'LOC': 'B-location',\n",
        "    'ⅿainⅬoⅽ': 'I-location',\n",
        "    'B-PER': 'B-person',\n",
        "    'I-PER': 'I-person',\n",
        "    'B-DAT': 'B-date',\n",
        "    'I-DAT': 'I-date',\n",
        "    'B-TIM': 'B-time',\n",
        "    'I-TIM': 'I-time',\n",
        "    'B-FAC': 'B-facility',\n",
        "    'I-FAC': 'I-facility',\n",
        "    'B-PCT': 'B-percent',\n",
        "    'I-PCT': 'I-percent',\n",
        "    'B-EVE': 'B-event',\n",
        "    'I-EVE': 'I-event',\n",
        "    'B-PRO': 'B-product',\n",
        "    'I-PRO': 'I-product',\n",
        "    'O': 'O'\n",
        "}"
      ],
      "metadata": {
        "id": "pipLFv6ZkBE3"
      },
      "execution_count": null,
      "outputs": []
    },
    {
      "cell_type": "code",
      "source": [
        "labels_paw = resolve_label(labels_paw, label_translate)\n",
        "is_consistent = check_label(ner_model, labels_paw)\n",
        "print(is_consistent)"
      ],
      "metadata": {
        "id": "2wruchrXNUwn",
        "colab": {
          "base_uri": "https://localhost:8080/"
        },
        "outputId": "8187eedb-546c-48ef-c274-16c345f196de"
      },
      "execution_count": null,
      "outputs": [
        {
          "output_type": "stream",
          "name": "stdout",
          "text": [
            "model labels: dict_keys(['B-date', 'B-event', 'B-facility', 'B-location', 'B-money', 'B-organization', 'B-percent', 'B-person', 'B-product', 'B-time', 'I-date', 'I-event', 'I-facility', 'I-location', 'I-money', 'I-organization', 'I-percent', 'I-person', 'I-product', 'I-time', 'O'])\n",
            "dataset labels: {'B-percent', 'B-time', 'I-location', 'I-date', 'I-person', 'B-organization', 'I-percent', 'I-money', 'B-location', 'B-money', 'B-date', 'O', 'B-person', 'I-facility', 'B-facility', 'B-event', 'B-product', 'I-product', 'I-organization', 'I-event', 'I-time'}\n",
            "True\n"
          ]
        }
      ]
    },
    {
      "cell_type": "markdown",
      "source": [
        "# <font color='red'> Predict </font>\n",
        "-------\n",
        "\n",
        "Input a text and use model to locate and classify named entities mentioned in unstructured text into pre-defined categories   "
      ],
      "metadata": {
        "id": "vRcRncMfi3cd"
      }
    },
    {
      "cell_type": "code",
      "source": [
        "def predict(self, input_text, device, max_length):\n",
        "        if not self.model or not self.tokenizer or not self.id2label:\n",
        "            print('Something wrong has been happened!')\n",
        "            return\n",
        "        pt_batch = self.tokenizer(\n",
        "            [self.normalizer.normalize(sequence) for sequence in input_text],\n",
        "            padding=True,\n",
        "            truncation=True,\n",
        "            max_length=max_length,\n",
        "            return_tensors=\"pt\"\n",
        "        )\n",
        "        gc.collect()\n",
        "        torch.cuda.empty_cache()\n",
        "        if device.type != 'cpu':\n",
        "            self.model.cuda()\n",
        "        pt_batch = pt_batch.to(device)\n",
        "        pt_outputs = self.model(**pt_batch)\n",
        "        pt_predictions = torch.argmax(pt_outputs.logits, dim=-1)\n",
        "        pt_predictions = pt_predictions.cpu().detach().numpy().tolist()\n",
        "        output_predictions = []\n",
        "        for i, sequence in enumerate(input_text):\n",
        "            tokens = self.tokenizer.tokenize(self.tokenizer.decode(self.tokenizer.encode(sequence)))\n",
        "            predictions = [(token, self.id2label[prediction]) for token, prediction in\n",
        "                           zip(tokens, pt_predictions[i])]\n",
        "            output_predictions.append(predictions)\n",
        "        return output_predictions"
      ],
      "metadata": {
        "id": "eN8drhmVi45o"
      },
      "execution_count": null,
      "outputs": []
    },
    {
      "cell_type": "markdown",
      "source": [
        "Input a text to see result"
      ],
      "metadata": {
        "id": "Pj3XYdrck-mT"
      }
    },
    {
      "cell_type": "code",
      "source": [
        "text = [\n",
        "   \"عبدالحسن برزیده دبیر هشتمین جشنواره فیلم دفاع مقدس و مدیرعامل انجمن سینمای انقلاب و دفاع  مقدس، روزیکشنبه با بیان این مطلب ، افزود: امسال انجمن سینمای انقلاب و دفاع مقدس در برگزاری جشنواره فیلم دفاع مقدس با بنیاد حفظ آثار و ارزشهای دفاع مقدس همکاری میکند و قرار است این روند در سالهای آینده نیز ادامه پیدا کند.\"\n",
        "]"
      ],
      "metadata": {
        "id": "Djh_Bkpuc8WV"
      },
      "execution_count": null,
      "outputs": []
    },
    {
      "cell_type": "code",
      "source": [
        "output = predict(ner_model, text, device, ner_model.config.max_position_embeddings)\n",
        "print(output)"
      ],
      "metadata": {
        "colab": {
          "base_uri": "https://localhost:8080/"
        },
        "id": "T4zgZ3ICc88H",
        "outputId": "dfe444ae-e0f4-45d3-89db-bec594015cb6"
      },
      "execution_count": null,
      "outputs": [
        {
          "output_type": "stream",
          "name": "stdout",
          "text": [
            "[[('[CLS]', 'O'), ('عبدالحسن', 'B-person'), ('برزیده', 'I-person'), ('دبیر', 'O'), ('هشتمین', 'B-event'), ('جشنواره', 'I-event'), ('فیلم', 'I-event'), ('دفاع', 'I-event'), ('مقدس', 'I-event'), ('و', 'O'), ('مدیرعامل', 'O'), ('انجمن', 'B-organization'), ('سینمای', 'I-organization'), ('انقلاب', 'I-organization'), ('و', 'I-organization'), ('دفاع', 'I-organization'), ('مقدس', 'I-organization'), ('،', 'O'), ('روزیکشنبه', 'O'), ('با', 'O'), ('بیان', 'O'), ('این', 'O'), ('مطلب', 'O'), ('،', 'O'), ('افزود', 'O'), (':', 'O'), ('امسال', 'O'), ('انجمن', 'B-organization'), ('سینمای', 'I-organization'), ('انقلاب', 'I-organization'), ('و', 'I-organization'), ('دفاع', 'I-organization'), ('مقدس', 'I-organization'), ('در', 'O'), ('برگزاری', 'O'), ('جشنواره', 'B-event'), ('فیلم', 'I-event'), ('دفاع', 'I-event'), ('مقدس', 'I-event'), ('با', 'O'), ('بنیاد', 'B-organization'), ('حفظ', 'I-organization'), ('اثار', 'I-organization'), ('و', 'I-organization'), ('ارزشهای', 'I-organization'), ('دفاع', 'I-organization'), ('مقدس', 'I-organization'), ('همکاری', 'O'), ('میکند', 'O'), ('و', 'O'), ('قرار', 'O'), ('است', 'O'), ('این', 'O'), ('روند', 'O'), ('در', 'O'), ('سالهای', 'O'), ('اینده', 'O'), ('نیز', 'O'), ('ادامه', 'O'), ('پیدا', 'O'), ('کند', 'O'), ('.', 'O'), ('[SEP]', 'O')]]\n"
          ]
        }
      ]
    },
    {
      "cell_type": "markdown",
      "source": [
        "# <font color='red'> Calculate </font>\n",
        "-------\n",
        "\n",
        "Input text and labels and tokenized them then train our model and get predicted and true label."
      ],
      "metadata": {
        "id": "rzTEzQ6HQyW4"
      }
    },
    {
      "cell_type": "code",
      "source": [
        "def calculate(self, input_text, input_labels, device, batch_size=4):\n",
        "        if not self.model or not self.tokenizer or not self.id2label:\n",
        "            print('Something wrong has been happened!')\n",
        "            return\n",
        "        print(\"len(input_text):\", len(input_text))\n",
        "        print(\"len(input_labels):\", len(input_labels))\n",
        "        c = 0\n",
        "        max_len = 0\n",
        "        tokenized_texts, new_labels = [], []\n",
        "        for sentence, sentence_label in zip(input_text, input_labels):\n",
        "            if type(sentence) == str:\n",
        "                sentence = sentence.strip().split()\n",
        "            if len(sentence) != len(sentence_label):\n",
        "                print('Len of a sentence and label is not equal')\n",
        "                return\n",
        "            tokenized_words = self.tokenizer(sentence, padding=False, add_special_tokens=False).input_ids\n",
        "            tokenized_sentence_ids, new_sentence_label = [], []\n",
        "            for i, tokenized_word in enumerate(tokenized_words):\n",
        "                tokenized_sentence_ids += tokenized_word\n",
        "                new_sentence_label.extend([self.config.label2id.get(sentence_label[i])] * len(tokenized_word))\n",
        "            max_len = max(max_len, len(tokenized_sentence_ids))\n",
        "            tokenized_texts.append(tokenized_sentence_ids)\n",
        "            new_labels.append(new_sentence_label)\n",
        "            c += 1\n",
        "            if c % 10000 == 0:\n",
        "                print(\"c:\", c)\n",
        "        max_len = min(max_len, self.config.max_position_embeddings)\n",
        "        print(\"max_len:\", max_len)\n",
        "        input_ids = pad_sequences(tokenized_texts, maxlen=max_len, dtype=\"long\", value=self.config.pad_token_id,\n",
        "                                  truncating=\"post\", padding=\"post\")\n",
        "        del tokenized_texts\n",
        "        input_labels = pad_sequences(new_labels, maxlen=max_len, value=self.config.label2id.get('O'), padding=\"post\",\n",
        "                                     dtype=\"long\", truncating=\"post\")\n",
        "        del new_labels\n",
        "        train_data = TensorDataset(torch.tensor(input_ids), torch.tensor(input_labels))\n",
        "        data_loader = DataLoader(train_data, batch_size=batch_size)\n",
        "        gc.collect()\n",
        "        torch.cuda.empty_cache()\n",
        "        if device.type != 'cpu':\n",
        "            self.model.cuda()\n",
        "        total_time = 0\n",
        "        output_predictions = []\n",
        "        print(\"Start to evaluate test data ...\")\n",
        "        for step, batch in enumerate(data_loader):\n",
        "            b_input_ids, b_labels = batch\n",
        "            b_input_ids = b_input_ids.to(device)\n",
        "            b_labels = b_labels.to(device)\n",
        "            with torch.no_grad():\n",
        "                start = time.monotonic()\n",
        "                outputs = self.model(b_input_ids, labels=b_labels)\n",
        "                end = time.monotonic()\n",
        "                total_time += end - start\n",
        "                print(f'step {step}: {end - start}')\n",
        "            b_predictions = torch.argmax(outputs.logits, dim=2)\n",
        "            b_predictions = b_predictions.cpu().detach().numpy().tolist()\n",
        "            b_labels = b_labels.cpu().detach().numpy().tolist()\n",
        "            for i, sample in enumerate(b_input_ids):\n",
        "                sample_input = list(sample)\n",
        "                while sample_input[-1] == self.config.pad_token_id:\n",
        "                    sample_input.pop()\n",
        "                tokens = [self.tokenizer.decode([t]) for t in sample_input]\n",
        "                sample_true_labels = [self.id2label[e] for e in b_labels[i][:len(sample_input)]]\n",
        "                sample_predictions = [self.id2label[e] for e in b_predictions[i][:len(sample_input)]]\n",
        "                output_predictions.append(\n",
        "                    [(t, sample_true_labels[j], sample_predictions[j]) for j, t in enumerate(tokens)])\n",
        "        print(\"total time:\", total_time)\n",
        "        return output_predictions\n"
      ],
      "metadata": {
        "id": "-0YAft3_hdg4"
      },
      "execution_count": null,
      "outputs": []
    },
    {
      "cell_type": "code",
      "source": [
        "inference_output = calculate(ner_model, sentences_paw, labels_paw, device, batch_size=256)"
      ],
      "metadata": {
        "id": "j-I8_uSBNZru",
        "colab": {
          "base_uri": "https://localhost:8080/"
        },
        "outputId": "886cb20e-0943-4a22-e3f5-2bb67f35c3d3"
      },
      "execution_count": null,
      "outputs": [
        {
          "output_type": "stream",
          "name": "stdout",
          "text": [
            "len(input_text): 6049\n",
            "len(input_labels): 6049\n",
            "max_len: 448\n",
            "Start to evaluate test data ...\n",
            "step 0: 0.028901369000095656\n",
            "step 1: 0.013152546999890546\n",
            "step 2: 0.019631026999832102\n",
            "step 3: 0.013770911000165142\n",
            "step 4: 0.014313252999954784\n",
            "step 5: 0.01872096700003567\n",
            "step 6: 0.013648431999854438\n",
            "step 7: 0.02872460699995827\n",
            "step 8: 0.014755558999922869\n",
            "step 9: 0.01398725299986836\n",
            "step 10: 0.01618858899996667\n",
            "step 11: 0.018885328999886042\n",
            "step 12: 0.013499891000037678\n",
            "step 13: 0.013201222000134294\n",
            "step 14: 0.02540642099984325\n",
            "step 15: 0.013839246000088679\n",
            "step 16: 0.0130064110001058\n",
            "step 17: 0.013145461000021896\n",
            "step 18: 0.022746528999959992\n",
            "step 19: 0.013367232000064178\n",
            "step 20: 0.012889507999943817\n",
            "step 21: 0.013377641000033691\n",
            "step 22: 0.018580743000029543\n",
            "step 23: 0.014176819999875079\n",
            "total time: 0.40191696799956844\n"
          ]
        }
      ]
    },
    {
      "cell_type": "markdown",
      "source": [
        "Print each word, true catagory and our output"
      ],
      "metadata": {
        "id": "8BCk042ml_xX"
      }
    },
    {
      "cell_type": "code",
      "source": [
        "for sample_output in inference_output[:5]:\n",
        "  for token, true_label, predicted_label in sample_output:\n",
        "    print('{}\\t{}\\t{}'.format(token, true_label, predicted_label))\n",
        "  print()"
      ],
      "metadata": {
        "id": "6xCLu5fMNbx2",
        "colab": {
          "base_uri": "https://localhost:8080/"
        },
        "outputId": "5817f2ee-a60e-4607-bb6e-5ef0bf9c6ec3"
      },
      "execution_count": null,
      "outputs": [
        {
          "output_type": "stream",
          "name": "stdout",
          "text": [
            "همچنین\tO\tO\n",
            "عملیات\tO\tO\n",
            "لرزهنگاری\tO\tO\n",
            "دوبعدی\tO\tO\n",
            "نیز\tO\tO\n",
            "با\tO\tO\n",
            "فعالیت\tO\tO\n",
            "مستمر\tO\tO\n",
            "چهار\tO\tO\n",
            "گروه\tO\tO\n",
            "کاری\tO\tO\n",
            "در\tO\tO\n",
            "مناطقی\tO\tO\n",
            "که\tO\tO\n",
            "از\tO\tO\n",
            "نظر\tO\tO\n",
            "اکتشافی\tO\tO\n",
            "مورد\tO\tO\n",
            "نظر\tO\tO\n",
            "بود\tO\tO\n",
            "،\tO\tO\n",
            "به\tO\tO\n",
            "پایان\tO\tO\n",
            "رسید\tO\tO\n",
            "که\tO\tO\n",
            "نتایج\tO\tO\n",
            "ان\tO\tO\n",
            "در\tO\tO\n",
            "حال\tO\tO\n",
            "بررسی\tO\tO\n",
            "است\tO\tO\n",
            ".\tO\tO\n",
            "\n",
            "محدث\tB-person\tO\n",
            "در\tO\tO\n",
            "مورد\tO\tO\n",
            "مشارکت\tO\tO\n",
            "شرکتهای\tO\tO\n",
            "خارجی\tO\tO\n",
            "در\tO\tO\n",
            "فعالیتهای\tO\tO\n",
            "اکتشافی\tO\tO\n",
            "کشور\tO\tO\n",
            "گفت\tO\tO\n",
            ":\tO\tO\n",
            "تاکنون\tO\tO\n",
            "چند\tO\tO\n",
            "منطقه\tO\tO\n",
            "اکتشافی\tO\tO\n",
            "را\tO\tO\n",
            "برای\tO\tO\n",
            "مشارکت\tO\tO\n",
            "و\tO\tO\n",
            "سرمایهگذاری\tO\tO\n",
            "شرکتهای\tO\tO\n",
            "خارجی\tO\tO\n",
            "اعلام\tO\tO\n",
            "کردهایم\tO\tO\n",
            "و\tO\tO\n",
            "در\tO\tO\n",
            "حال\tO\tO\n",
            "مذاکره\tO\tO\n",
            "با\tO\tO\n",
            "طرفهای\tO\tO\n",
            "خارجی\tO\tO\n",
            "هستیم\tO\tO\n",
            "و\tO\tO\n",
            "انتظار\tO\tO\n",
            "میرود\tO\tO\n",
            "تا\tO\tO\n",
            "اخر\tO\tO\n",
            "امسال\tO\tO\n",
            "بتوانیم\tO\tO\n",
            "چند\tO\tO\n",
            "قرارداد\tO\tO\n",
            "را\tO\tO\n",
            "نهایی\tO\tO\n",
            "کنیم\tO\tO\n",
            ".\tO\tO\n",
            "\n",
            "مدیر\tO\tO\n",
            "امور\tB-organization\tB-organization\n",
            "اکتشاف\tI-organization\tI-organization\n",
            "شرکت\tI-organization\tI-organization\n",
            "ملی\tI-organization\tI-organization\n",
            "نفت\tI-organization\tI-organization\n",
            "فرو\tO\tO\n",
            "##افتادگی\tO\tO\n",
            "دزفول\tB-location\tB-location\n",
            "و\tO\tO\n",
            "منطقه\tB-location\tB-location\n",
            "گسل\tI-location\tI-location\n",
            "کازرون\tI-location\tI-location\n",
            "تا\tO\tO\n",
            "بالارو\tB-location\tB-location\n",
            "##د\tB-location\tI-location\n",
            "در\tO\tO\n",
            "اطراف\tO\tO\n",
            "لرستان\tB-location\tB-location\n",
            "را\tO\tO\n",
            "مستعدترین\tO\tO\n",
            "منطقه\tO\tO\n",
            "کشف\tO\tO\n",
            "میدانهای\tO\tO\n",
            "نفت\tO\tO\n",
            "و\tO\tO\n",
            "گاز\tO\tO\n",
            "دانست\tO\tO\n",
            "و\tO\tO\n",
            "با\tO\tO\n",
            "اشاره\tO\tO\n",
            "به\tO\tO\n",
            "این\tO\tO\n",
            "که\tO\tO\n",
            "عملیات\tO\tO\n",
            "اکتشافی\tO\tO\n",
            "در\tO\tO\n",
            "[UNK]\tO\tO\n",
            "درصد\tO\tO\n",
            "این\tO\tO\n",
            "منطقه\tO\tO\n",
            "به\tO\tO\n",
            "پایان\tO\tO\n",
            "رسیده\tO\tO\n",
            "است\tO\tO\n",
            "،\tO\tO\n",
            "گفت\tO\tO\n",
            ":\tO\tO\n",
            "هنوز\tO\tO\n",
            "مناطق\tO\tO\n",
            "وسیعی\tO\tO\n",
            "از\tO\tO\n",
            "حوزه\tO\tO\n",
            "رسوبی\tO\tO\n",
            "کشور\tO\tO\n",
            "که\tO\tO\n",
            "وسعت\tO\tO\n",
            "ان\tO\tO\n",
            "به\tO\tO\n",
            "[UNK]\tO\tO\n",
            "هزار\tO\tO\n",
            "کیلومترمربع\tO\tO\n",
            "میرسد\tO\tO\n",
            "،\tO\tO\n",
            "اکتشاف\tO\tO\n",
            "نشده\tO\tO\n",
            "است\tO\tO\n",
            ".\tO\tO\n",
            "\n",
            "تهران\tB-location\tO\n",
            "به\tO\tO\n",
            "[UNK]\tO\tO\n",
            "کیلومتر\tO\tO\n",
            "بزرگراه\tO\tO\n",
            "نیاز\tO\tO\n",
            "دارد\tO\tO\n",
            ".\tO\tO\n",
            "\n",
            "در\tO\tO\n",
            "جریان\tO\tO\n",
            "بازدید\tO\tO\n",
            "مهندس\tO\tO\n",
            "الویری\tB-person\tB-person\n",
            "از\tO\tO\n",
            "منطقه\tO\tB-location\n",
            "[UNK]\tO\tO\n",
            "شش\tO\tO\n",
            "طرح\tO\tO\n",
            "فرهنگی\tO\tO\n",
            "،\tO\tO\n",
            "خدماتی\tO\tO\n",
            "و\tO\tO\n",
            "فضای\tO\tO\n",
            "سبز\tO\tO\n",
            "شامل\tO\tO\n",
            "مسجد\tO\tO\n",
            "،\tO\tO\n",
            "کلینیک\tO\tO\n",
            "گل\tO\tO\n",
            "و\tO\tO\n",
            "گیاه\tO\tO\n",
            "،\tO\tO\n",
            "بوستانهای\tO\tO\n",
            "جوانان\tO\tO\n",
            "،\tO\tO\n",
            "نیلوفر\tO\tO\n",
            "و\tO\tO\n",
            "گل\tO\tO\n",
            "محمدی\tO\tO\n",
            "و\tO\tO\n",
            "یک\tO\tO\n",
            "الاچیق\tO\tO\n",
            "به\tO\tO\n",
            "سبک\tO\tO\n",
            "سنتی\tO\tO\n",
            "ترکمن\tO\tO\n",
            "افتتاح\tO\tO\n",
            "شد\tO\tO\n",
            "و\tO\tO\n",
            "به\tO\tO\n",
            "بهرهبرداری\tO\tO\n",
            "رسید\tO\tO\n",
            ".\tO\tO\n",
            "\n"
          ]
        }
      ]
    },
    {
      "cell_type": "markdown",
      "source": [
        "# <font color='red'> Evaluate </font>\n",
        "-------\n",
        "\n",
        "Compare true lables and predicted labels to find accuracy, prescision, recall and f1."
      ],
      "metadata": {
        "id": "f_fgSHQHQ4wo"
      }
    },
    {
      "cell_type": "code",
      "source": [
        "def evaluate_results(labels, output_predictions):\n",
        "        dataset_labels = set()\n",
        "        for label in labels:\n",
        "            dataset_labels.update(set(label))\n",
        "        true_labels, predictions = [], []\n",
        "        for sample_output in output_predictions:\n",
        "            sample_true_labels = []\n",
        "            sample_predicted_labels = []\n",
        "            for token, true_label, predicted_label in sample_output:\n",
        "                sample_true_labels.append(true_label)\n",
        "                if predicted_label in dataset_labels:\n",
        "                    sample_predicted_labels.append(predicted_label)\n",
        "                else:\n",
        "                    sample_predicted_labels.append('O')\n",
        "            true_labels.append(sample_true_labels)\n",
        "            predictions.append(sample_predicted_labels)\n",
        "\n",
        "        print(\"Test Accuracy: {}\".format(accuracy_score(true_labels, predictions)))\n",
        "        print(\"Test Precision: {}\".format(precision_score(true_labels, predictions)))\n",
        "        print(\"Test Recall: {}\".format(recall_score(true_labels, predictions)))\n",
        "        print(\"Test F1-Score: {}\".format(f1_score(true_labels, predictions)))\n"
      ],
      "metadata": {
        "id": "vV2yAUN4Po6e"
      },
      "execution_count": null,
      "outputs": []
    },
    {
      "cell_type": "code",
      "source": [
        "evaluate_results(labels_paw, inference_output)"
      ],
      "metadata": {
        "id": "u28RJGiGNeqw",
        "colab": {
          "base_uri": "https://localhost:8080/"
        },
        "outputId": "d8617c16-c8c7-4bce-fbeb-e9eb3392c2f6"
      },
      "execution_count": null,
      "outputs": [
        {
          "output_type": "stream",
          "name": "stdout",
          "text": [
            "Test Accuracy: 0.9635493519441675\n",
            "Test Precision: 0.7158046866935067\n",
            "Test Recall: 0.6529190207156309\n",
            "Test F1-Score: 0.6829172206628256\n"
          ]
        }
      ]
    }
  ]
}